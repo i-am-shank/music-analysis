{
 "cells": [
  {
   "cell_type": "code",
   "execution_count": 109,
   "metadata": {},
   "outputs": [],
   "source": [
    "from music21 import converter, instrument, note, chord, stream\n",
    "import glob\n",
    "import pickle\n",
    "import numpy as np"
   ]
  },
  {
   "attachments": {},
   "cell_type": "markdown",
   "metadata": {},
   "source": [
    "## Read a Midi File"
   ]
  },
  {
   "cell_type": "code",
   "execution_count": 110,
   "metadata": {},
   "outputs": [
    {
     "name": "stdout",
     "output_type": "stream",
     "text": [
      "<class 'music21.stream.base.Score'>\n"
     ]
    }
   ],
   "source": [
    "song1 = converter.parse(\"midi_songs/8.mid\")\n",
    "print(type(song1))"
   ]
  },
  {
   "cell_type": "code",
   "execution_count": 111,
   "metadata": {},
   "outputs": [
    {
     "data": {
      "text/plain": [
       "<music21.stream.Score 0x1729227ed30>"
      ]
     },
     "execution_count": 111,
     "metadata": {},
     "output_type": "execute_result"
    }
   ],
   "source": [
    "song1"
   ]
  },
  {
   "cell_type": "code",
   "execution_count": 112,
   "metadata": {},
   "outputs": [
    {
     "data": {
      "text/html": [
       "\n",
       "                <div id=\"midiPlayerDiv215434\"></div>\n",
       "                <link rel=\"stylesheet\" href=\"//cuthbertLab.github.io/music21j/css/m21.css\"\n",
       "                    type=\"text/css\" />\n",
       "                \n",
       "                <script>\n",
       "                require.config({\n",
       "                    paths: {'music21': '//cuthbertLab.github.io/music21j/src/music21'}\n",
       "                });\n",
       "                require(['music21'], function() {\n",
       "                               mp = new music21.miditools.MidiPlayer();\n",
       "                               mp.addPlayer(\"#midiPlayerDiv215434\");\n",
       "                               mp.base64Load(\"data:audio/midi;base64,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\");\n",
       "                        });\n",
       "                </script>"
      ],
      "text/plain": [
       "<IPython.core.display.HTML object>"
      ]
     },
     "metadata": {},
     "output_type": "display_data"
    }
   ],
   "source": [
    "# song1 --> object of stream.Score type\n",
    "#       --> will contain music in form of notes and chords\n",
    "song1.show('midi')\n",
    "# This will show the song in playable format"
   ]
  },
  {
   "cell_type": "code",
   "execution_count": 113,
   "metadata": {},
   "outputs": [],
   "source": [
    "# song1.show('text')\n",
    "# This will show the song in text-format (notes & chords)"
   ]
  },
  {
   "cell_type": "code",
   "execution_count": 114,
   "metadata": {},
   "outputs": [],
   "source": [
    "# So, the chords and notes are stored in nested forms of containers\n",
    "# .. to simplify this, store all of them in a single list\n",
    "# ==> Flatten the elements.\n",
    "elements_of_song = song1.flat.notes"
   ]
  },
  {
   "cell_type": "code",
   "execution_count": 115,
   "metadata": {},
   "outputs": [
    {
     "name": "stdout",
     "output_type": "stream",
     "text": [
      "336\n",
      "<music21.stream.iterator.StreamIterator for Score:0x172927eea90 @:0>\n",
      "<class 'music21.stream.iterator.StreamIterator'>\n"
     ]
    }
   ],
   "source": [
    "print(len(elements_of_song))\n",
    "print(elements_of_song)\n",
    "print(type(elements_of_song))"
   ]
  },
  {
   "cell_type": "code",
   "execution_count": 116,
   "metadata": {},
   "outputs": [
    {
     "name": "stdout",
     "output_type": "stream",
     "text": [
      "Following are some elements of song :-\n",
      "<music21.note.Note C> 0.0 <class 'music21.note.Note'>\n",
      "<music21.chord.Chord C5 E4> 0.0 <class 'music21.chord.Chord'>\n",
      "<music21.note.Note C> 0.0 <class 'music21.note.Note'>\n",
      "<music21.note.Note C> 0.0 <class 'music21.note.Note'>\n",
      "<music21.chord.Chord C5 E4> 0.0 <class 'music21.chord.Chord'>\n",
      "<music21.note.Note C> 0.0 <class 'music21.note.Note'>\n",
      "<music21.note.Note G> 1.5 <class 'music21.note.Note'>\n",
      "<music21.note.Note G> 5/3 <class 'music21.note.Note'>\n"
     ]
    }
   ],
   "source": [
    "count = 0\n",
    "print(\"Following are some elements of song :-\")\n",
    "for e in elements_of_song:\n",
    "    print(e, e.offset, type(e))\n",
    "    count += 1\n",
    "    if count > 7:\n",
    "        break\n",
    "    # e.offset --> will tell the time-duration of element"
   ]
  },
  {
   "attachments": {},
   "cell_type": "markdown",
   "metadata": {},
   "source": [
    "## Get the Notes & Chords from the Song"
   ]
  },
  {
   "cell_type": "code",
   "execution_count": 117,
   "metadata": {},
   "outputs": [
    {
     "name": "stdout",
     "output_type": "stream",
     "text": [
      "True False False True\n"
     ]
    }
   ],
   "source": [
    "elex = elements_of_song[0]\n",
    "ele2 = elements_of_song[4]\n",
    "# isinstance(element, classType)\n",
    "# If the element and its class match with classType --> this returns True (else False)\n",
    "flag1a = isinstance(elex, note.Note)\n",
    "flag1b = isinstance(elex, chord.Chord)\n",
    "flag2a = isinstance(ele2, note.Note)\n",
    "flag2b = isinstance(ele2, chord.Chord)\n",
    "print(flag1a, flag1b, flag2a, flag2b)"
   ]
  },
  {
   "attachments": {},
   "cell_type": "markdown",
   "metadata": {},
   "source": [
    "#### Processing a Note :-"
   ]
  },
  {
   "cell_type": "code",
   "execution_count": 118,
   "metadata": {},
   "outputs": [
    {
     "name": "stdout",
     "output_type": "stream",
     "text": [
      "C5\n",
      "<class 'music21.note.Note'>\n",
      "<class 'music21.pitch.Pitch'>\n",
      "C5\n"
     ]
    }
   ],
   "source": [
    "note1 = elements_of_song[3]\n",
    "print(note1.pitch)\n",
    "print(type(note1))\n",
    "# This gives the note in form of a class\n",
    "print(type(note1.pitch))\n",
    "# Get the string from the class\n",
    "currNote = str(note1.pitch)\n",
    "print(currNote)\n",
    "# This will recover the note-name from class"
   ]
  },
  {
   "attachments": {},
   "cell_type": "markdown",
   "metadata": {},
   "source": [
    "#### Processing a Chord :-"
   ]
  },
  {
   "cell_type": "code",
   "execution_count": 119,
   "metadata": {},
   "outputs": [
    {
     "name": "stdout",
     "output_type": "stream",
     "text": [
      "<music21.chord.Chord C5 E4>\n",
      "<class 'music21.chord.Chord'>\n",
      "[0, 4]\n",
      "<class 'list'>\n",
      "0+4\n"
     ]
    }
   ],
   "source": [
    "chord1 = elements_of_song[1]\n",
    "print(chord1)\n",
    "print(type(chord1))\n",
    "# This is a chord, let's figure this out.. how to process this\n",
    "print(chord1.normalOrder)\n",
    "# chord.normalOrder --> Gives the list of nodes in it.\n",
    "# 2 --> A4\n",
    "# 6 --> D5\n",
    "# 9 --> F#4\n",
    "# (Following some pattern of indexing.. have to figure it out)\n",
    "print(type(chord1.normalOrder))\n",
    "# Convert the chord-list into a string, concatenated with \"+\"\n",
    "currChord = \"+\".join(str(x) for x in chord1.normalOrder)\n",
    "print(currChord)"
   ]
  },
  {
   "attachments": {},
   "cell_type": "markdown",
   "metadata": {},
   "source": [
    "#### Making a list, only of Notes (from Notes) OR (from Chords)"
   ]
  },
  {
   "cell_type": "code",
   "execution_count": 120,
   "metadata": {},
   "outputs": [],
   "source": [
    "notes_of_song = []\n",
    "# Empty array container for notes & chords\n",
    "for ele in elements_of_song:\n",
    "    # If element is a note, store it's pitch\n",
    "    if(isinstance(ele, note.Note) == True):\n",
    "        tempNote = str(ele.pitch)\n",
    "        notes_of_song.append(tempNote)\n",
    "    elif(isinstance(ele, chord.Chord) == True):\n",
    "    # Else, element is a chord, split notes, and make string of them\n",
    "        tempChord = \"+\".join(str(x) for x in ele.normalOrder)\n",
    "        notes_of_song.append(tempChord)"
   ]
  },
  {
   "cell_type": "code",
   "execution_count": 121,
   "metadata": {},
   "outputs": [
    {
     "name": "stdout",
     "output_type": "stream",
     "text": [
      "No. of notes/chords = 336\n",
      "Some elements of notes_of_song array are :-\n",
      "C5\n",
      "0+4\n",
      "C2\n",
      "C5\n",
      "0+4\n",
      "C2\n",
      "G4\n",
      "G4\n",
      "...\n"
     ]
    }
   ],
   "source": [
    "print(\"No. of notes/chords =\", len(notes_of_song))\n",
    "print(\"Some elements of notes_of_song array are :-\")\n",
    "count = 0\n",
    "for note1 in notes_of_song:\n",
    "    print(note1)\n",
    "    count += 1\n",
    "    if count > 7:\n",
    "        break\n",
    "print(\"...\")"
   ]
  },
  {
   "attachments": {},
   "cell_type": "markdown",
   "metadata": {},
   "source": [
    "## Get All the Notes, from all the Midi Files"
   ]
  },
  {
   "cell_type": "code",
   "execution_count": 122,
   "metadata": {},
   "outputs": [
    {
     "name": "stdout",
     "output_type": "stream",
     "text": [
      "parsing midi_songs\\0fithos.mid\n",
      "parsing midi_songs\\8.mid\n",
      "parsing midi_songs\\ahead_on_our_way_piano.mid\n",
      "parsing midi_songs\\AT.mid\n",
      "parsing midi_songs\\balamb.mid\n",
      "parsing midi_songs\\bcm.mid\n",
      "parsing midi_songs\\BlueStone_LastDungeon.mid\n",
      "parsing midi_songs\\braska.mid\n",
      "parsing midi_songs\\caitsith.mid\n",
      "parsing midi_songs\\Cids.mid\n",
      "...\n"
     ]
    }
   ],
   "source": [
    "notes = []\n",
    "count = 0\n",
    "for file in glob.glob(\"midi_songs/*.mid\"):\n",
    "    midi = converter.parse(file) # Convert file into stream.Score Object\n",
    "    if count < 10:\n",
    "        print(\"parsing %s\"%file)    \n",
    "    elements_to_parse = midi.flat.notes\n",
    "    count += 1\n",
    "\n",
    "    for elex in elements_to_parse:\n",
    "        # If the element is a Note,  then store it's pitch\n",
    "        if(isinstance(elex, chord.Chord) == True):\n",
    "            notes.append(\"+\".join(str(n) for n in elex.normalOrder))\n",
    "        elif(isinstance(elex, note.Note) == True):\n",
    "            noteString = str(elex.pitch)\n",
    "            notes.append(noteString)\n",
    "            # If the element is a Chord, split each note of chord and join them with +\n",
    "print(\"...\")"
   ]
  },
  {
   "cell_type": "code",
   "execution_count": 123,
   "metadata": {},
   "outputs": [
    {
     "name": "stdout",
     "output_type": "stream",
     "text": [
      "Length of notes-array =  60764\n",
      "Some elements of note array :-\n",
      "4+9\n",
      "E2\n",
      "4+9\n",
      "4+9\n",
      "4+9\n",
      "4+9\n",
      "4+9\n",
      "4+9\n",
      "...\n"
     ]
    }
   ],
   "source": [
    "print(\"Length of notes-array = \", len(notes))\n",
    "print(\"Some elements of note array :-\")\n",
    "count = 0\n",
    "for n in notes:\n",
    "    print(n)\n",
    "    count += 1\n",
    "    if count > 7:\n",
    "        break\n",
    "print(\"...\")"
   ]
  },
  {
   "attachments": {},
   "cell_type": "markdown",
   "metadata": {},
   "source": [
    "## Saving the file, containing all Notes"
   ]
  },
  {
   "cell_type": "code",
   "execution_count": 124,
   "metadata": {},
   "outputs": [],
   "source": [
    "import pickle\n",
    "\n",
    "with open(\"notes\", 'wb') as filepath:\n",
    "    pickle.dump(notes, filepath)"
   ]
  },
  {
   "cell_type": "code",
   "execution_count": 125,
   "metadata": {},
   "outputs": [],
   "source": [
    "# 'wb' --> Write-binary mode (to write data in a file)\n",
    "# 'rb' --> Read-binary mode (to read data from a file)\n",
    "with open(\"notes\", 'rb') as f:\n",
    "    notes = pickle.load(f)\n",
    "    # This will load whole file-data to variable notes"
   ]
  },
  {
   "attachments": {},
   "cell_type": "markdown",
   "metadata": {},
   "source": [
    "#### Count of Unique Elements in Music :-"
   ]
  },
  {
   "cell_type": "code",
   "execution_count": 126,
   "metadata": {},
   "outputs": [
    {
     "name": "stdout",
     "output_type": "stream",
     "text": [
      "398\n"
     ]
    }
   ],
   "source": [
    "# In 'wb' and 'rb', same file needs to be referenced.\n",
    "# Else, Will give error --> \"Ran out of data\".\n",
    "print(len(set(notes)))\n",
    "# This will print unique no. of elements.\n",
    "# i.e. --> Unique notes/chords in all files.\n",
    "numElements = len(set(notes))"
   ]
  },
  {
   "attachments": {},
   "cell_type": "markdown",
   "metadata": {},
   "source": [
    "## Preparing Sequenctial Data for LSTM :-"
   ]
  },
  {
   "attachments": {},
   "cell_type": "markdown",
   "metadata": {},
   "source": [
    "Choosing a sequence length which states that how many elements are considered in a LSTM layer, which is 1st layer of the neural network (created further)."
   ]
  },
  {
   "cell_type": "code",
   "execution_count": 127,
   "metadata": {},
   "outputs": [
    {
     "name": "stdout",
     "output_type": "stream",
     "text": [
      "No. of elements in uniqueNotes =  398\n",
      "Some elements of uniqueNotes array are :-\n",
      "0\n",
      "0+1\n",
      "0+1+3\n",
      "0+1+5\n",
      "0+1+6\n",
      "0+2\n",
      "0+2+3+7\n",
      "0+2+4+5\n",
      "...\n"
     ]
    }
   ],
   "source": [
    "sequenceLength = 100\n",
    "# Will give 100 elements to a layer, and will predict output for next layer using them.\n",
    "uniqueNotes = sorted(set(notes))\n",
    "countNodes = len(uniqueNotes)\n",
    "print(\"No. of elements in uniqueNotes = \", len(uniqueNotes))\n",
    "print(\"Some elements of uniqueNotes array are :-\")\n",
    "count = 0\n",
    "for ele in uniqueNotes:\n",
    "    print(ele)\n",
    "    count += 1\n",
    "    if count > 7:\n",
    "        break\n",
    "print(\"...\")"
   ]
  },
  {
   "attachments": {},
   "cell_type": "markdown",
   "metadata": {},
   "source": [
    "#### Mapping Strings (unique-elements) to Integer values :-"
   ]
  },
  {
   "cell_type": "code",
   "execution_count": 128,
   "metadata": {},
   "outputs": [
    {
     "name": "stdout",
     "output_type": "stream",
     "text": [
      "0  :  0\n",
      "0+1  :  1\n",
      "0+1+3  :  2\n",
      "0+1+5  :  3\n",
      "0+1+6  :  4\n",
      "0+2  :  5\n",
      "0+2+3+7  :  6\n",
      "0+2+4+5  :  7\n",
      "...\n"
     ]
    }
   ],
   "source": [
    "# As ML models work with numerial data only, will map each string with a number.\n",
    "noteMap = dict((ele, num) for num, ele in enumerate(uniqueNotes))\n",
    "count = 0\n",
    "for ele in noteMap:\n",
    "    print(ele, \" : \", noteMap[ele])\n",
    "    count += 1\n",
    "    if count > 7:\n",
    "        break\n",
    "print(\"...\")"
   ]
  },
  {
   "attachments": {},
   "cell_type": "markdown",
   "metadata": {},
   "source": [
    "--> As sequenceLength is 100, will take first 100 data to input, and 101st data as output.\n",
    "--> For next iteration, take (2-101) data points as input, and 102nd data as output.\n",
    "--> So on...  Sliding window (of size 100) as input, & next 1 data as output.\n",
    "\n",
    "--> So, total we will get (len(notes) - sequenceLength) datapoints."
   ]
  },
  {
   "cell_type": "code",
   "execution_count": 129,
   "metadata": {},
   "outputs": [],
   "source": [
    "networkInput = [] # input-data\n",
    "networkOutput = [] # will try to get output, using input\n",
    "for i in range(len(notes) - sequenceLength):\n",
    "    inputSeq = notes[i : i+sequenceLength] # 100 string-values\n",
    "    outputSeq = notes[i + sequenceLength] # 1 string-value\n",
    "    # Currently, inputSeq & outputSeq has strings.\n",
    "    # Use map, to convert it to integer-values.\n",
    "    # ..as ML-algorithm works only on numerical data.\n",
    "    networkInput.append([noteMap[ch] for ch in inputSeq])\n",
    "    networkOutput.append(noteMap[outputSeq])"
   ]
  },
  {
   "cell_type": "code",
   "execution_count": 130,
   "metadata": {},
   "outputs": [
    {
     "name": "stdout",
     "output_type": "stream",
     "text": [
      "60664\n",
      "60664\n"
     ]
    }
   ],
   "source": [
    "print(len(networkInput))\n",
    "print(len(networkOutput))"
   ]
  },
  {
   "attachments": {},
   "cell_type": "markdown",
   "metadata": {},
   "source": [
    "#### Create ready-data for Neural Network :-"
   ]
  },
  {
   "cell_type": "code",
   "execution_count": 131,
   "metadata": {},
   "outputs": [],
   "source": [
    "import numpy as np"
   ]
  },
  {
   "cell_type": "code",
   "execution_count": 132,
   "metadata": {},
   "outputs": [
    {
     "name": "stdout",
     "output_type": "stream",
     "text": [
      "(60664, 100, 1)\n"
     ]
    }
   ],
   "source": [
    "# n_patterns = int(len(networkInput)/100)\n",
    "# No. of rows divided by 100.. as 100 columns, so Distributing data in 3-D format\n",
    "n_patterns = len(networkInput)\n",
    "networkInput = np.reshape(networkInput, (n_patterns, sequenceLength, 1))\n",
    "# LSTM recieves input data in 3-dimensions\n",
    "print(networkInput.shape)"
   ]
  },
  {
   "attachments": {},
   "cell_type": "markdown",
   "metadata": {},
   "source": [
    "#### Normalize this data"
   ]
  },
  {
   "cell_type": "code",
   "execution_count": 133,
   "metadata": {},
   "outputs": [
    {
     "name": "stdout",
     "output_type": "stream",
     "text": [
      "Some elements of normNetworkInput[0] array :-\n",
      "[0.48743719]\n",
      "[0.92713568]\n",
      "[0.48743719]\n",
      "[0.48743719]\n",
      "[0.48743719]\n",
      "[0.48743719]\n",
      "[0.48743719]\n",
      "[0.48743719]\n",
      "[0.48743719]\n",
      "[0.2638191]\n",
      "[0.48743719]\n",
      "...\n"
     ]
    }
   ],
   "source": [
    "# As the values are from 0 - uniqueNodes\n",
    "# For better precision, converting data in range [0 - 1]\n",
    "normNetworkInput = networkInput / float(numElements)\n",
    "print(\"Some elements of normNetworkInput[0] array :-\")\n",
    "count = 0\n",
    "for ele in normNetworkInput[0]:\n",
    "    print(ele)\n",
    "    count += 1\n",
    "    if count > 10:\n",
    "        break\n",
    "print(\"...\")"
   ]
  },
  {
   "cell_type": "code",
   "execution_count": 134,
   "metadata": {},
   "outputs": [],
   "source": [
    "# Now, values are in range [0 - 1]\n",
    "# Network output are the classes, encoded into 1-vector"
   ]
  },
  {
   "cell_type": "code",
   "execution_count": 135,
   "metadata": {},
   "outputs": [],
   "source": [
    "from keras.utils import np_utils"
   ]
  },
  {
   "cell_type": "code",
   "execution_count": 136,
   "metadata": {},
   "outputs": [
    {
     "name": "stdout",
     "output_type": "stream",
     "text": [
      "(60664, 398)\n"
     ]
    }
   ],
   "source": [
    "networkOutput = np_utils.to_categorical(networkOutput)\n",
    "print(networkOutput.shape)\n",
    "# This will convert output-data to a 2-D format\n",
    "# In which each key(old-output value) has 229 categorical values\n",
    "# And, the one which matches has some kind of flag marked to it."
   ]
  },
  {
   "attachments": {},
   "cell_type": "markdown",
   "metadata": {},
   "source": [
    "# Create Model"
   ]
  },
  {
   "attachments": {},
   "cell_type": "markdown",
   "metadata": {},
   "source": [
    "#### Download & Import Packages"
   ]
  },
  {
   "cell_type": "code",
   "execution_count": 137,
   "metadata": {},
   "outputs": [],
   "source": [
    "from keras.models import Sequential\n",
    "from keras.layers import *\n",
    "from keras.callbacks import ModelCheckpoint, EarlyStopping"
   ]
  },
  {
   "attachments": {},
   "cell_type": "markdown",
   "metadata": {},
   "source": [
    "### Creating a Sequential Model :-"
   ]
  },
  {
   "cell_type": "code",
   "execution_count": 138,
   "metadata": {},
   "outputs": [],
   "source": [
    "model = Sequential()"
   ]
  },
  {
   "attachments": {},
   "cell_type": "markdown",
   "metadata": {},
   "source": [
    "### Adding Layers to the Model :-"
   ]
  },
  {
   "cell_type": "code",
   "execution_count": 39,
   "metadata": {},
   "outputs": [],
   "source": [
    "# And, this model has first layer as LSTM layer.\n",
    "model.add(LSTM(units=512, input_shape=(normNetworkInput.shape[1], normNetworkInput.shape[2]), return_sequences=True))\n",
    "# As this is the 1st layer, so we need to provide the input-shape (in argument)\n",
    "# Here we are passing (100,1) as input_shape, as all data-points have shape (100,1)\n",
    "# Also, we have to do return_sequences=True, as this isn't the last layer, also have further layers.\n",
    "\n",
    "# After the 1st layer, adding a Dropout\n",
    "model.add(Dropout(0.3))\n",
    "\n",
    "# Also adding another LSTM layer.\n",
    "model.add(LSTM(512, return_sequences=True))\n",
    "# return_sequences=True --> returns only last output of output seq.\n",
    "\n",
    "# Again adding a Dropout\n",
    "model.add(Dropout(0.3))\n",
    "\n",
    "# And, now 1-more LSTM layer.\n",
    "model.add(LSTM(512))\n",
    "# return_sequences=False(default) --> returns whole output-seq.\n",
    "\n",
    "# And, adding a Dense-layer.\n",
    "model.add(Dense(256))\n",
    "\n",
    "# Again adding a Dropout.\n",
    "model.add(Dropout(0.3))\n",
    "\n",
    "# Now, the final layer.\n",
    "#   (Adding dense layer with no. of neurons = countNodes)\n",
    "#   (Also having an \"softmax\" activation function)\n",
    "model.add(Dense(numElements, activation=\"softmax\"))"
   ]
  },
  {
   "attachments": {},
   "cell_type": "markdown",
   "metadata": {},
   "source": [
    "#### Compiling the model :-"
   ]
  },
  {
   "cell_type": "code",
   "execution_count": 40,
   "metadata": {},
   "outputs": [],
   "source": [
    "model.compile(loss=\"categorical_crossentropy\", optimizer=\"adam\")\n",
    "# loss=\"categorical_crossentropy\" --> since it has 229 classes.\n",
    "# Not specifying any metrics (like accuracy), as it would not be a good metrics to evaluate."
   ]
  },
  {
   "attachments": {},
   "cell_type": "markdown",
   "metadata": {},
   "source": [
    "### This is our Model :-"
   ]
  },
  {
   "cell_type": "code",
   "execution_count": 42,
   "metadata": {},
   "outputs": [
    {
     "name": "stdout",
     "output_type": "stream",
     "text": [
      "Model: \"sequential\"\n",
      "_________________________________________________________________\n",
      " Layer (type)                Output Shape              Param #   \n",
      "=================================================================\n",
      " lstm (LSTM)                 (None, 100, 512)          1052672   \n",
      "                                                                 \n",
      " dropout (Dropout)           (None, 100, 512)          0         \n",
      "                                                                 \n",
      " lstm_1 (LSTM)               (None, 100, 512)          2099200   \n",
      "                                                                 \n",
      " dropout_1 (Dropout)         (None, 100, 512)          0         \n",
      "                                                                 \n",
      " lstm_2 (LSTM)               (None, 512)               2099200   \n",
      "                                                                 \n",
      " dense (Dense)               (None, 256)               131328    \n",
      "                                                                 \n",
      " dropout_2 (Dropout)         (None, 256)               0         \n",
      "                                                                 \n",
      " dense_1 (Dense)             (None, 398)               102286    \n",
      "                                                                 \n",
      "=================================================================\n",
      "Total params: 5,484,686\n",
      "Trainable params: 5,484,686\n",
      "Non-trainable params: 0\n",
      "_________________________________________________________________\n"
     ]
    }
   ],
   "source": [
    "model.summary()"
   ]
  },
  {
   "attachments": {},
   "cell_type": "markdown",
   "metadata": {},
   "source": [
    "### Training the Model :-"
   ]
  },
  {
   "cell_type": "code",
   "execution_count": 41,
   "metadata": {},
   "outputs": [],
   "source": [
    "import tensorflow as tf"
   ]
  },
  {
   "cell_type": "code",
   "execution_count": 52,
   "metadata": {},
   "outputs": [
    {
     "name": "stdout",
     "output_type": "stream",
     "text": [
      "Epoch 1/10\n",
      "948/948 [==============================] - 4003s 4s/step - loss: 4.8030\n",
      "Epoch 2/10\n",
      "948/948 [==============================] - 3837s 4s/step - loss: 4.7745\n",
      "Epoch 3/10\n",
      "948/948 [==============================] - 3842s 4s/step - loss: 4.7721\n",
      "Epoch 4/10\n",
      "948/948 [==============================] - 3839s 4s/step - loss: 4.7687\n",
      "Epoch 5/10\n",
      "948/948 [==============================] - 12148s 13s/step - loss: 4.7669\n",
      "Epoch 6/10\n",
      "948/948 [==============================] - 3739s 4s/step - loss: 4.7658\n",
      "Epoch 7/10\n",
      "948/948 [==============================] - 3994s 4s/step - loss: 4.7650\n",
      "Epoch 8/10\n",
      "948/948 [==============================] - 3497s 4s/step - loss: 4.7646\n",
      "Epoch 9/10\n",
      "948/948 [==============================] - 3606s 4s/step - loss: 4.7646\n",
      "Epoch 10/10\n",
      "948/948 [==============================] - 3747s 4s/step - loss: 4.7644\n"
     ]
    }
   ],
   "source": [
    "# (Entire code commented out, to prevent created model, from starting fit again, and old work getting wasted)\n",
    "# Creating callbacks for fitting model.\n",
    "\n",
    "checkpoint = ModelCheckpoint(\"model3.hdf5\", monitor='loss', verbose=0, save_best_only=True, mode='min')\n",
    "# 1st arg  -->  where the model will be saved\n",
    "# 2nd arg  -->  We have to monitor the loss\n",
    "# 5th arg  -->  As monitoring loss, so mode = \"min\", as loss should be minimum.\n",
    "\n",
    "# We can also create an earlystopping callback, but lets only keep the checkpoint.\n",
    "\n",
    "# Fitting the model :-\n",
    "\n",
    "model_his = model.fit(normNetworkInput, networkOutput, epochs=10, batch_size=64, callbacks=[checkpoint])\n",
    "# No. of epochs = 10 (trying for model3)\n",
    "# batch size = 64\n",
    "# No. of epochs = 100 (for model4 .. trained in google-colab)\n",
    "# Then imported that model to this file..."
   ]
  },
  {
   "attachments": {},
   "cell_type": "markdown",
   "metadata": {},
   "source": [
    "## Load Model :-"
   ]
  },
  {
   "cell_type": "code",
   "execution_count": 139,
   "metadata": {},
   "outputs": [],
   "source": [
    "from keras.models import load_model"
   ]
  },
  {
   "cell_type": "code",
   "execution_count": 140,
   "metadata": {},
   "outputs": [],
   "source": [
    "model = load_model(\"model4.hdf5\")"
   ]
  },
  {
   "attachments": {},
   "cell_type": "markdown",
   "metadata": {},
   "source": [
    "## Predictions :-"
   ]
  },
  {
   "cell_type": "code",
   "execution_count": 141,
   "metadata": {},
   "outputs": [],
   "source": [
    "sequenceLength = 100"
   ]
  },
  {
   "cell_type": "code",
   "execution_count": 142,
   "metadata": {},
   "outputs": [],
   "source": [
    "networkInput = [] # input-data\n",
    "for i in range(len(notes) - sequenceLength):\n",
    "    inputSeq = notes[i : i+sequenceLength] # 100 string-values\n",
    "    # Currently, inputSeq & outputSeq has strings.\n",
    "    # Use map, to convert it to integer-values.\n",
    "    # ..as ML-algorithm works only on numerical data.\n",
    "    networkInput.append([noteMap[ch] for ch in inputSeq])"
   ]
  },
  {
   "cell_type": "code",
   "execution_count": 143,
   "metadata": {},
   "outputs": [
    {
     "name": "stdout",
     "output_type": "stream",
     "text": [
      "Some elements of networkInput[0] array :-\n",
      "194\n",
      "369\n",
      "194\n",
      "194\n",
      "194\n",
      "194\n",
      "194\n",
      "194\n",
      "...\n"
     ]
    }
   ],
   "source": [
    "print(\"Some elements of networkInput[0] array :-\")\n",
    "count = 0\n",
    "for ele in networkInput[0]:\n",
    "    print(ele)\n",
    "    count += 1\n",
    "    if count > 7:\n",
    "        break\n",
    "print(\"...\")"
   ]
  },
  {
   "cell_type": "code",
   "execution_count": 144,
   "metadata": {},
   "outputs": [
    {
     "name": "stdout",
     "output_type": "stream",
     "text": [
      "100\n"
     ]
    }
   ],
   "source": [
    "print(len(networkInput[300]))"
   ]
  },
  {
   "cell_type": "code",
   "execution_count": 145,
   "metadata": {},
   "outputs": [],
   "source": [
    "# Each data-point has 100-elements (in networkInput)\n",
    "# We will give these 100-elements as input, & it will generate 1-output.\n",
    "# Will add this 1-output in input, & discard oldest element from input. (again getting to 100 input-elements)\n",
    "# This way, we will keep predicting 1-element each time."
   ]
  },
  {
   "cell_type": "code",
   "execution_count": 146,
   "metadata": {},
   "outputs": [],
   "source": [
    "startIdx = np.random.randint(len(networkInput)-1)\n",
    "# This will get any random data-point-index from the input-data\n",
    "# Data at each random data-point-index means --> 100 elements."
   ]
  },
  {
   "cell_type": "code",
   "execution_count": 147,
   "metadata": {},
   "outputs": [
    {
     "name": "stdout",
     "output_type": "stream",
     "text": [
      "28688\n"
     ]
    }
   ],
   "source": [
    "print(startIdx)"
   ]
  },
  {
   "cell_type": "code",
   "execution_count": 148,
   "metadata": {},
   "outputs": [
    {
     "name": "stdout",
     "output_type": "stream",
     "text": [
      "Some elements of networkInput[startIdx] array are :-\n",
      "298\n",
      "298\n",
      "145\n",
      "245\n",
      "245\n",
      "203\n",
      "298\n",
      "298\n",
      "...\n"
     ]
    }
   ],
   "source": [
    "networkInput[startIdx]\n",
    "print(\"Some elements of networkInput[startIdx] array are :-\")\n",
    "count = 0\n",
    "for ele in networkInput[startIdx]:\n",
    "    print(ele)\n",
    "    count += 1\n",
    "    if count > 7:\n",
    "        break\n",
    "print(\"...\")"
   ]
  },
  {
   "cell_type": "code",
   "execution_count": 149,
   "metadata": {},
   "outputs": [],
   "source": [
    "# Above 100-element np-array, is the start sequence.\n",
    "# Right now, we have :-\n",
    "# element --> integer  mapping\n",
    "# What is also required is :-\n",
    "# integer --> element  mapping."
   ]
  },
  {
   "cell_type": "code",
   "execution_count": 150,
   "metadata": {},
   "outputs": [],
   "source": [
    "intNoteMap = dict((num,ele) for num,ele in enumerate(uniqueNotes))\n",
    "# This will have  (integer --> element) mapping.\n",
    "# uniqueNotes --> has all unique-elements\n",
    "# noteMap --> has  (element --> integer) mapping.\n",
    "# countNodes --> count of unique-elements.\n",
    "\n",
    "# print(intNoteMap)\n",
    "# Commented, as this is just \"integer\" --> \"music-element\" mapping."
   ]
  },
  {
   "attachments": {},
   "cell_type": "markdown",
   "metadata": {},
   "source": [
    "### Generate Input-music in playable format :-"
   ]
  },
  {
   "cell_type": "code",
   "execution_count": 151,
   "metadata": {},
   "outputs": [],
   "source": [
    "# Taking the initial input-index pattern\n",
    "pattern = networkInput[startIdx]\n",
    "predictionOutput = []"
   ]
  },
  {
   "cell_type": "code",
   "execution_count": 152,
   "metadata": {},
   "outputs": [],
   "source": [
    "inputMusicElements = []\n",
    "inputMusic = []\n",
    "inputMusic = (intNoteMap[ele] for ele in pattern)"
   ]
  },
  {
   "cell_type": "code",
   "execution_count": 153,
   "metadata": {},
   "outputs": [],
   "source": [
    "offset = 0\n",
    "# offset --> instance-time of particular element (note/chord)\n",
    "# Have to iterate over all elements of predictionOutput\n",
    "#   --> Checking whether is a note or chord ?\n",
    "\n",
    "for element in inputMusic:\n",
    "    # If element is a chord :-\n",
    "    if('+' in element) or element.isdigit():\n",
    "        # Possibilites are like '1+3' or '0'.\n",
    "        notesInChord = element.split('+')\n",
    "        # This will get all notes in chord\n",
    "        tempNotes = []\n",
    "        for currNote in notesInChord:\n",
    "            # Creating note-object for each note in chord\n",
    "            newNote = note.Note(int(currNote))\n",
    "            # Set it's instrument\n",
    "            newNote.storedInstrument = instrument.Piano()\n",
    "            tempNotes.append(newNote)\n",
    "        # This chord can have x-notes\n",
    "        # Create a chord-object from list of notes\n",
    "        newChord = chord.Chord(tempNotes)\n",
    "        # Adding offset to chord\n",
    "        newChord.offset = offset\n",
    "        # Add this chord to music-elements\n",
    "        inputMusicElements.append(newChord)\n",
    "    # If element is a note :-\n",
    "    else:\n",
    "        # We know that this is a note\n",
    "        newNote = note.Note(element)\n",
    "        # Set off-set of note\n",
    "        newNote.offset = offset\n",
    "        # Set the instrument of note\n",
    "        newNote.storedInstrument = instrument.Piano()\n",
    "        # Add this note to music-elements\n",
    "        inputMusicElements.append(newNote)\n",
    "    offset += 0.5\n",
    "    # Fixing the time-duration of all elements"
   ]
  },
  {
   "cell_type": "code",
   "execution_count": 154,
   "metadata": {},
   "outputs": [
    {
     "data": {
      "text/plain": [
       "'testInput7.mid'"
      ]
     },
     "execution_count": 154,
     "metadata": {},
     "output_type": "execute_result"
    }
   ],
   "source": [
    "# For playing them, have to create a stream-object\n",
    "#    ..from the generated music-elements\n",
    "midiInputStream = stream.Stream(inputMusicElements)\n",
    "# Write this midiStream on a midi-file.\n",
    "midiInputStream.write('midi', fp=\"testInput7.mid\")\n",
    "# 1st arg  -->  File-type\n",
    "# 2nd arg  -->  File-name"
   ]
  },
  {
   "cell_type": "code",
   "execution_count": 155,
   "metadata": {},
   "outputs": [
    {
     "data": {
      "text/html": [
       "\n",
       "                <div id=\"midiPlayerDiv412689\"></div>\n",
       "                <link rel=\"stylesheet\" href=\"//cuthbertLab.github.io/music21j/css/m21.css\"\n",
       "                    type=\"text/css\" />\n",
       "                \n",
       "                <script>\n",
       "                require.config({\n",
       "                    paths: {'music21': '//cuthbertLab.github.io/music21j/src/music21'}\n",
       "                });\n",
       "                require(['music21'], function() {\n",
       "                               mp = new music21.miditools.MidiPlayer();\n",
       "                               mp.addPlayer(\"#midiPlayerDiv412689\");\n",
       "                               mp.base64Load(\"data:audio/midi;base64,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\");\n",
       "                        });\n",
       "                </script>"
      ],
      "text/plain": [
       "<IPython.core.display.HTML object>"
      ]
     },
     "metadata": {},
     "output_type": "display_data"
    }
   ],
   "source": [
    "midiInputStream.show('midi')"
   ]
  },
  {
   "attachments": {},
   "cell_type": "markdown",
   "metadata": {},
   "source": [
    "### Making Prediction (trial) :-"
   ]
  },
  {
   "cell_type": "code",
   "execution_count": 156,
   "metadata": {},
   "outputs": [],
   "source": [
    "# Trying to generate (numIteration)-elements of music\n",
    "numIteration = 1\n",
    "# Try with different count variations, so named a variable\n",
    "for noteIdx in range(numIteration):\n",
    "    predictionInput = np.reshape(pattern, (1,len(pattern), 1))\n",
    "    # reshaping into (1, 100, 1)\n",
    "    # 1st argument --> count of data-points (batch-size)\n",
    "    # As we have, 1-data of 100-length (2nd argument)\n",
    "    # 3rd argument --> Because LSTM supports data in 3-dimension.\n",
    "    # Also to predict over it, normalization is required (values between [0,1])\n",
    "    predictionInput = predictionInput / float(countNodes)\n",
    "    # Making prediction\n",
    "    prediction = model.predict(predictionInput, verbose=0)"
   ]
  },
  {
   "cell_type": "code",
   "execution_count": 157,
   "metadata": {},
   "outputs": [
    {
     "name": "stdout",
     "output_type": "stream",
     "text": [
      "Some elements of prediction[0] are :-\n",
      "2.9772655e-06\n",
      "1.0695634e-07\n",
      "7.0111814e-09\n",
      "1.7837475e-09\n",
      "1.1589216e-05\n",
      "2.1283286e-09\n",
      "5.0656144e-08\n",
      "3.21053e-08\n",
      "...\n"
     ]
    }
   ],
   "source": [
    "print(\"Some elements of prediction[0] are :-\")\n",
    "count = 0\n",
    "for ele in prediction[0]:\n",
    "    print(ele)\n",
    "    count += 1\n",
    "    if count > 7:\n",
    "        break\n",
    "print(\"...\")"
   ]
  },
  {
   "attachments": {},
   "cell_type": "markdown",
   "metadata": {},
   "source": [
    "### Analyzing Prediction :-"
   ]
  },
  {
   "cell_type": "code",
   "execution_count": 158,
   "metadata": {},
   "outputs": [
    {
     "name": "stdout",
     "output_type": "stream",
     "text": [
      "Measures of Dispersion of data :- \n",
      "\n",
      "Minimum value =  1.694451e-10\n",
      "Maximum value =  0.48786566\n",
      "Range of values =  0.48786566\n",
      "Variance =  0.0008339275\n",
      "Standard Deviation =  0.028877802\n",
      "Length of 1st Prediction-element =  359\n",
      "Count of unique elements =  398\n"
     ]
    }
   ],
   "source": [
    "# Let's see, what our model has predicted\n",
    "print(\"Measures of Dispersion of data :- \\n\")\n",
    "print(\"Minimum value = \", np.amin(prediction))\n",
    "print(\"Maximum value = \", np.amax(prediction))\n",
    "print(\"Range of values = \", np.ptp(prediction))\n",
    "print(\"Variance = \", np.var(prediction))\n",
    "print(\"Standard Deviation = \", np.std(prediction))\n",
    "print(\"Length of 1st Prediction-element = \", len(prediction[0]))\n",
    "print(\"Count of unique elements = \", countNodes)"
   ]
  },
  {
   "cell_type": "code",
   "execution_count": 159,
   "metadata": {},
   "outputs": [],
   "source": [
    "# The values are in range [0,1].\n",
    "# And, no. of values in 1st prediction are equal to the no. of unique elements we have.\n",
    "# So --> it is clear that this has give the probabilities of all unique-elements.\n",
    "# So, taking the element with max. probability"
   ]
  },
  {
   "attachments": {},
   "cell_type": "markdown",
   "metadata": {},
   "source": [
    "## Making Prediction :-"
   ]
  },
  {
   "cell_type": "code",
   "execution_count": 160,
   "metadata": {},
   "outputs": [],
   "source": [
    "# Trying to generate (numIteration)-elements of music\n",
    "numIteration = 200\n",
    "\n",
    "for noteIdx in range(numIteration):\n",
    "    predictionInput = np.reshape(pattern, (1,len(pattern), 1))\n",
    "    predictionInput = predictionInput / float(countNodes)\n",
    "    # Making prediction\n",
    "    prediction = model.predict(predictionInput, verbose=0)\n",
    "    # Taking the element with max. probability\n",
    "    idx = np.argmax(prediction)\n",
    "    # index (unique-note index too) corresponding to max. probability element\n",
    "    result = intNoteMap[idx]\n",
    "    # Appending this element to prediction-array\n",
    "    predictionOutput.append(result)\n",
    "    pattern.append(idx)\n",
    "    # slicing out the oldest element (0th index)\n",
    "    pattern = pattern[1:]\n",
    "    # Size of pattern remained constant at 100 (as needed by model).\n",
    "    #     (as added 1 element, & removed 1)"
   ]
  },
  {
   "cell_type": "code",
   "execution_count": 161,
   "metadata": {},
   "outputs": [
    {
     "name": "stdout",
     "output_type": "stream",
     "text": [
      "No. of elements in predictionOutput =  200\n",
      "Some elements of predictionOutput array are :-\n",
      "11+3+6\n",
      "11+3+6\n",
      "11+3+6\n",
      "11+3+6\n",
      "0+4+6\n",
      "11+3+6\n",
      "11+3+6\n",
      "0+4+6\n",
      "...\n"
     ]
    }
   ],
   "source": [
    "print(\"No. of elements in predictionOutput = \", len(predictionOutput))\n",
    "print(\"Some elements of predictionOutput array are :-\")\n",
    "count = 0\n",
    "for ele in predictionOutput:\n",
    "    print(ele)\n",
    "    count += 1\n",
    "    if count > 7:\n",
    "        break\n",
    "print(\"...\")"
   ]
  },
  {
   "attachments": {},
   "cell_type": "markdown",
   "metadata": {},
   "source": [
    "## Generate Music out of Predicted-data :"
   ]
  },
  {
   "attachments": {},
   "cell_type": "markdown",
   "metadata": {},
   "source": [
    "### What required is to get a Midi File :-"
   ]
  },
  {
   "cell_type": "code",
   "execution_count": 162,
   "metadata": {},
   "outputs": [],
   "source": [
    "outputMusicElements = []\n",
    "# Array to store notes & chords."
   ]
  },
  {
   "attachments": {},
   "cell_type": "markdown",
   "metadata": {},
   "source": [
    "#### Trying to Create a Note (from string) :-"
   ]
  },
  {
   "cell_type": "code",
   "execution_count": 163,
   "metadata": {},
   "outputs": [
    {
     "data": {
      "text/plain": [
       "<music21.note.Note C>"
      ]
     },
     "execution_count": 163,
     "metadata": {},
     "output_type": "execute_result"
    }
   ],
   "source": [
    "tempStr = 'C4'\n",
    "# Just copying from the predictionOutput display\n",
    "# Creating a note-object (using note-package)\n",
    "note.Note(tempStr)"
   ]
  },
  {
   "cell_type": "code",
   "execution_count": 164,
   "metadata": {},
   "outputs": [],
   "source": [
    "# Music-note is generated.\n",
    "# Similarly we can do for multiple elements.\n",
    "newNote = note.Note(tempStr)\n",
    "# Also, the note will have a off-set (timing)\n",
    "# By default, offset was 0. (setting it manually here)\n",
    "newNote.offset = 0\n",
    "# And, the note will have an instrument\n",
    "#    Can set, using storedInstrument package\n",
    "newNote.storedInstrument = instrument.Piano()\n",
    "# outputMusicElements.append(newNote)\n",
    "# Above element is commented out, as it will get unwanted music like this random created note."
   ]
  },
  {
   "cell_type": "code",
   "execution_count": 165,
   "metadata": {},
   "outputs": [
    {
     "name": "stdout",
     "output_type": "stream",
     "text": [
      "<music21.note.Note C>\n"
     ]
    }
   ],
   "source": [
    "print(newNote)"
   ]
  },
  {
   "attachments": {},
   "cell_type": "markdown",
   "metadata": {},
   "source": [
    "#### Creating Music-Elements from String-array :-"
   ]
  },
  {
   "cell_type": "code",
   "execution_count": 166,
   "metadata": {},
   "outputs": [],
   "source": [
    "offset = 0\n",
    "# offset --> instance-time of particular element (note/chord)\n",
    "# Have to iterate over all elements of predictionOutput\n",
    "#   --> Checking whether is a note or chord ?\n",
    "\n",
    "for element in predictionOutput:\n",
    "    # If element is a chord :-\n",
    "    if('+' in element) or element.isdigit():\n",
    "        # Possibilites are like '1+3' or '0'.\n",
    "        notesInChord = element.split('+')\n",
    "        # This will get all notes in chord\n",
    "        tempNotes = []\n",
    "        for currNote in notesInChord:\n",
    "            # Creating note-object for each note in chord\n",
    "            newNote = note.Note(int(currNote))\n",
    "            # Set it's instrument\n",
    "            newNote.storedInstrument = instrument.Piano()\n",
    "            tempNotes.append(newNote)\n",
    "        # This chord can have x-notes\n",
    "        # Create a chord-object from list of notes\n",
    "        newChord = chord.Chord(tempNotes)\n",
    "        # Adding offset to chord\n",
    "        newChord.offset = offset\n",
    "        # Add this chord to music-elements\n",
    "        outputMusicElements.append(newChord)\n",
    "    # If element is a note :-\n",
    "    else:\n",
    "        # We know that this is a note\n",
    "        newNote = note.Note(element)\n",
    "        # Set off-set of note\n",
    "        newNote.offset = offset\n",
    "        # Set the instrument of note\n",
    "        newNote.storedInstrument = instrument.Piano()\n",
    "        # Add this note to music-elements\n",
    "        outputMusicElements.append(newNote)\n",
    "    offset += 0.5\n",
    "    # Fixing the time-duration of all elements"
   ]
  },
  {
   "cell_type": "code",
   "execution_count": 167,
   "metadata": {},
   "outputs": [
    {
     "name": "stdout",
     "output_type": "stream",
     "text": [
      "No. of elements in outputMusicElements =  200\n",
      "Some elements of outputMusicElement array are :-\n",
      "<music21.chord.Chord B E- F#>\n",
      "<music21.chord.Chord B E- F#>\n",
      "<music21.chord.Chord B E- F#>\n",
      "<music21.chord.Chord B E- F#>\n",
      "<music21.chord.Chord C E F#>\n",
      "<music21.chord.Chord B E- F#>\n",
      "<music21.chord.Chord B E- F#>\n",
      "<music21.chord.Chord C E F#>\n",
      "...\n"
     ]
    }
   ],
   "source": [
    "print(\"No. of elements in outputMusicElements = \", len(outputMusicElements))\n",
    "print(\"Some elements of outputMusicElement array are :-\")\n",
    "count = 0\n",
    "for ele in outputMusicElements:\n",
    "    print(ele)\n",
    "    count += 1\n",
    "    if count > 7:\n",
    "        break\n",
    "print(\"...\")"
   ]
  },
  {
   "attachments": {},
   "cell_type": "markdown",
   "metadata": {},
   "source": [
    "### Trying to Play the Output Music :-"
   ]
  },
  {
   "cell_type": "code",
   "execution_count": 168,
   "metadata": {},
   "outputs": [
    {
     "data": {
      "text/plain": [
       "'testOutput7.mid'"
      ]
     },
     "execution_count": 168,
     "metadata": {},
     "output_type": "execute_result"
    }
   ],
   "source": [
    "# For playing them, have to create a stream-object\n",
    "#    ..from the generated music-elements\n",
    "midiStream = stream.Stream(outputMusicElements)\n",
    "# Write this midiStream on a midi-file.\n",
    "midiStream.write('midi', fp=\"testOutput7.mid\")\n",
    "# 1st arg  -->  File-type , 2nd arg  -->  File-name"
   ]
  },
  {
   "attachments": {},
   "cell_type": "markdown",
   "metadata": {},
   "source": [
    "#### Loading the output-midi file :"
   ]
  },
  {
   "cell_type": "code",
   "execution_count": 169,
   "metadata": {},
   "outputs": [
    {
     "data": {
      "text/html": [
       "\n",
       "                <div id=\"midiPlayerDiv414506\"></div>\n",
       "                <link rel=\"stylesheet\" href=\"//cuthbertLab.github.io/music21j/css/m21.css\"\n",
       "                    type=\"text/css\" />\n",
       "                \n",
       "                <script>\n",
       "                require.config({\n",
       "                    paths: {'music21': '//cuthbertLab.github.io/music21j/src/music21'}\n",
       "                });\n",
       "                require(['music21'], function() {\n",
       "                               mp = new music21.miditools.MidiPlayer();\n",
       "                               mp.addPlayer(\"#midiPlayerDiv414506\");\n",
       "                               mp.base64Load(\"data:audio/midi;base64,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\");\n",
       "                        });\n",
       "                </script>"
      ],
      "text/plain": [
       "<IPython.core.display.HTML object>"
      ]
     },
     "metadata": {},
     "output_type": "display_data"
    }
   ],
   "source": [
    "midiStream.show('midi')\n",
    "# Show the music in playable-format"
   ]
  },
  {
   "cell_type": "code",
   "execution_count": 170,
   "metadata": {},
   "outputs": [
    {
     "name": "stdout",
     "output_type": "stream",
     "text": [
      "<class 'music21.stream.base.Score'>\n"
     ]
    }
   ],
   "source": [
    "outputMusic7 = converter.parse(\"testOutput7.mid\")\n",
    "print(type(outputMusic7))"
   ]
  },
  {
   "cell_type": "code",
   "execution_count": 171,
   "metadata": {},
   "outputs": [
    {
     "data": {
      "text/html": [
       "\n",
       "                <div id=\"midiPlayerDiv417767\"></div>\n",
       "                <link rel=\"stylesheet\" href=\"//cuthbertLab.github.io/music21j/css/m21.css\"\n",
       "                    type=\"text/css\" />\n",
       "                \n",
       "                <script>\n",
       "                require.config({\n",
       "                    paths: {'music21': '//cuthbertLab.github.io/music21j/src/music21'}\n",
       "                });\n",
       "                require(['music21'], function() {\n",
       "                               mp = new music21.miditools.MidiPlayer();\n",
       "                               mp.addPlayer(\"#midiPlayerDiv417767\");\n",
       "                               mp.base64Load(\"data:audio/midi;base64,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\");\n",
       "                        });\n",
       "                </script>"
      ],
      "text/plain": [
       "<IPython.core.display.HTML object>"
      ]
     },
     "metadata": {},
     "output_type": "display_data"
    }
   ],
   "source": [
    "outputMusic7.show('midi')\n",
    "# This will show the music in playable-format"
   ]
  },
  {
   "attachments": {},
   "cell_type": "markdown",
   "metadata": {},
   "source": [
    "## Plotting inputMusicElements VS outputMusicElements :"
   ]
  },
  {
   "cell_type": "code",
   "execution_count": 172,
   "metadata": {},
   "outputs": [],
   "source": [
    "import matplotlib.pyplot as plt"
   ]
  },
  {
   "cell_type": "code",
   "execution_count": 173,
   "metadata": {},
   "outputs": [
    {
     "name": "stdout",
     "output_type": "stream",
     "text": [
      "Some elements of inputMusicNums :-\n",
      "298\n",
      "298\n",
      "145\n",
      "245\n",
      "245\n",
      "203\n",
      "298\n",
      "298\n",
      "...\n"
     ]
    }
   ],
   "source": [
    "inputMusicNums = networkInput[startIdx]\n",
    "print(\"Some elements of inputMusicNums :-\")\n",
    "count = 0\n",
    "for ele in inputMusicNums:\n",
    "    print(ele)\n",
    "    count += 1\n",
    "    if count > 7:\n",
    "        break\n",
    "print(\"...\")"
   ]
  },
  {
   "cell_type": "code",
   "execution_count": 174,
   "metadata": {},
   "outputs": [
    {
     "name": "stdout",
     "output_type": "stream",
     "text": [
      "Some elements of outputMusicNums are :-\n",
      "104\n",
      "104\n",
      "104\n",
      "104\n",
      "21\n",
      "104\n",
      "104\n",
      "21\n",
      "...\n"
     ]
    }
   ],
   "source": [
    "outputMusicNums = []\n",
    "for ele in predictionOutput:\n",
    "    outputMusicNums.append(noteMap[ele])\n",
    "print(\"Some elements of outputMusicNums are :-\")\n",
    "count = 0\n",
    "for ele in outputMusicNums:\n",
    "    print(ele)\n",
    "    count += 1\n",
    "    if count > 7:\n",
    "        break\n",
    "print(\"...\")"
   ]
  },
  {
   "attachments": {},
   "cell_type": "markdown",
   "metadata": {},
   "source": [
    "#### Plot inputMusicNums VS outputMusicNums (prediction visualization) :-"
   ]
  },
  {
   "cell_type": "code",
   "execution_count": 175,
   "metadata": {},
   "outputs": [
    {
     "name": "stdout",
     "output_type": "stream",
     "text": [
      "(100,)\n",
      "(100,)\n"
     ]
    }
   ],
   "source": [
    "y1 = np.array(inputMusicNums)\n",
    "y1 = y1[:100]\n",
    "y2 = np.array(outputMusicNums)\n",
    "y2 = y2[:100]\n",
    "print(y1.shape)\n",
    "print(y2.shape)"
   ]
  },
  {
   "cell_type": "code",
   "execution_count": 176,
   "metadata": {},
   "outputs": [
    {
     "data": {
      "image/png": "[encoded data removed]",
      "text/plain": [
       "<Figure size 720x396 with 1 Axes>"
      ]
     },
     "metadata": {
      "image/png": {
       "height": 388,
       "width": 712
      },
      "needs_background": "light"
     },
     "output_type": "display_data"
    }
   ],
   "source": [
    "plt.rcParams[\"figure.figsize\"] = [10.00, 5.50]\n",
    "plt.rcParams[\"figure.autolayout\"] = True\n",
    "x1 = np.linspace(0,100,100)\n",
    "x2 = np.linspace(101,200,100)\n",
    "\n",
    "plt.plot(x1,y1,color=\"aqua\",label=\"Input music-data\")\n",
    "plt.plot(x2,y2,color=\"orange\",label=\"Predicted music-data\")\n",
    "plt.xlabel(\"Offset\")\n",
    "plt.ylabel(\"Music Element (index)\")\n",
    "plt.title(\"Testing data & Predicted data\")\n",
    "plt.show()"
   ]
  }
 ],
 "metadata": {
  "kernelspec": {
   "display_name": "base",
   "language": "python",
   "name": "python3"
  },
  "language_info": {
   "codemirror_mode": {
    "name": "ipython",
    "version": 3
   },
   "file_extension": ".py",
   "mimetype": "text/x-python",
   "name": "python",
   "nbconvert_exporter": "python",
   "pygments_lexer": "ipython3",
   "version": "3.9.12"
  },
  "orig_nbformat": 4
 },
 "nbformat": 4,
 "nbformat_minor": 2
}
