{
 "cells": [
  {
   "cell_type": "code",
   "execution_count": 13,
   "metadata": {},
   "outputs": [],
   "source": [
    "# pip install music21\n",
    "# Commented out.. as if run again, doesn't try to install"
   ]
  },
  {
   "cell_type": "code",
   "execution_count": 14,
   "metadata": {},
   "outputs": [],
   "source": [
    "from music21 import converter, instrument, note, chord, stream\n",
    "import glob\n",
    "import pickle\n",
    "import numpy as np"
   ]
  },
  {
   "attachments": {},
   "cell_type": "markdown",
   "metadata": {},
   "source": [
    "## Read a Midi File"
   ]
  },
  {
   "cell_type": "code",
   "execution_count": 15,
   "metadata": {},
   "outputs": [
    {
     "name": "stdout",
     "output_type": "stream",
     "text": [
      "<class 'music21.stream.base.Score'>\n"
     ]
    }
   ],
   "source": [
    "song1 = converter.parse(\"midi_songs/8.mid\")\n",
    "print(type(song1))"
   ]
  },
  {
   "cell_type": "code",
   "execution_count": 16,
   "metadata": {},
   "outputs": [
    {
     "data": {
      "text/plain": [
       "<music21.stream.Score 0x2a00c0d3100>"
      ]
     },
     "execution_count": 16,
     "metadata": {},
     "output_type": "execute_result"
    }
   ],
   "source": [
    "song1"
   ]
  },
  {
   "cell_type": "code",
   "execution_count": 17,
   "metadata": {},
   "outputs": [
    {
     "data": {
      "text/html": [
       "\n",
       "                <div id=\"midiPlayerDiv209433\"></div>\n",
       "                <link rel=\"stylesheet\" href=\"//cuthbertLab.github.io/music21j/css/m21.css\"\n",
       "                    type=\"text/css\" />\n",
       "                \n",
       "                <script>\n",
       "                require.config({\n",
       "                    paths: {'music21': '//cuthbertLab.github.io/music21j/src/music21'}\n",
       "                });\n",
       "                require(['music21'], function() {\n",
       "                               mp = new music21.miditools.MidiPlayer();\n",
       "                               mp.addPlayer(\"#midiPlayerDiv209433\");\n",
       "                               mp.base64Load(\"data:audio/midi;base64,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\");\n",
       "                        });\n",
       "                </script>"
      ],
      "text/plain": [
       "<IPython.core.display.HTML object>"
      ]
     },
     "metadata": {},
     "output_type": "display_data"
    }
   ],
   "source": [
    "# song1 --> object of stream.Score type\n",
    "#       --> will contain music in form of notes and chords\n",
    "song1.show('midi')\n",
    "# This will show the song in playable format"
   ]
  },
  {
   "cell_type": "code",
   "execution_count": 18,
   "metadata": {},
   "outputs": [],
   "source": [
    "# song1.show('text')\n",
    "# This will show the song in text-format (notes & chords)"
   ]
  },
  {
   "cell_type": "code",
   "execution_count": 19,
   "metadata": {},
   "outputs": [],
   "source": [
    "# So, the chords and notes are stored in nested forms of containers\n",
    "# .. to simplify this, store all of them in a single list\n",
    "# ==> Flatten the elements.\n",
    "elements_of_song = song1.flat.notes"
   ]
  },
  {
   "cell_type": "code",
   "execution_count": 20,
   "metadata": {},
   "outputs": [
    {
     "name": "stdout",
     "output_type": "stream",
     "text": [
      "336\n",
      "<music21.stream.iterator.StreamIterator for Score:0x2a00cc28a60 @:0>\n",
      "<class 'music21.stream.iterator.StreamIterator'>\n"
     ]
    }
   ],
   "source": [
    "print(len(elements_of_song))\n",
    "print(elements_of_song)\n",
    "print(type(elements_of_song))"
   ]
  },
  {
   "cell_type": "code",
   "execution_count": 21,
   "metadata": {},
   "outputs": [
    {
     "name": "stdout",
     "output_type": "stream",
     "text": [
      "Following are some elements of song :-\n",
      "<music21.note.Note C> 0.0 <class 'music21.note.Note'>\n",
      "<music21.chord.Chord C5 E4> 0.0 <class 'music21.chord.Chord'>\n",
      "<music21.note.Note C> 0.0 <class 'music21.note.Note'>\n",
      "<music21.note.Note C> 0.0 <class 'music21.note.Note'>\n",
      "<music21.chord.Chord C5 E4> 0.0 <class 'music21.chord.Chord'>\n",
      "<music21.note.Note C> 0.0 <class 'music21.note.Note'>\n",
      "<music21.note.Note G> 1.5 <class 'music21.note.Note'>\n",
      "<music21.note.Note G> 5/3 <class 'music21.note.Note'>\n",
      "<music21.note.Note C> 1.75 <class 'music21.note.Note'>\n",
      "<music21.note.Note C> 1.75 <class 'music21.note.Note'>\n",
      "<music21.note.Note D> 2.0 <class 'music21.note.Note'>\n",
      "<music21.chord.Chord D4 B-4> 2.0 <class 'music21.chord.Chord'>\n",
      "<music21.note.Note B-> 2.0 <class 'music21.note.Note'>\n",
      "<music21.note.Note D> 2.0 <class 'music21.note.Note'>\n",
      "<music21.chord.Chord D4 B-4> 2.0 <class 'music21.chord.Chord'>\n",
      "<music21.note.Note B-> 2.0 <class 'music21.note.Note'>\n"
     ]
    }
   ],
   "source": [
    "count = 0\n",
    "print(\"Following are some elements of song :-\")\n",
    "for e in elements_of_song:\n",
    "    print(e, e.offset, type(e))\n",
    "    count += 1\n",
    "    if count > 15:\n",
    "        break\n",
    "    # e.offset --> will tell the time-duration of element"
   ]
  },
  {
   "attachments": {},
   "cell_type": "markdown",
   "metadata": {},
   "source": [
    "## Get the Notes & Chords from the Song"
   ]
  },
  {
   "cell_type": "code",
   "execution_count": 22,
   "metadata": {},
   "outputs": [
    {
     "name": "stdout",
     "output_type": "stream",
     "text": [
      "True False False True\n"
     ]
    }
   ],
   "source": [
    "elex = elements_of_song[0]\n",
    "ele2 = elements_of_song[4]\n",
    "# isinstance(element, classType)\n",
    "# If the element and its class match with classType --> this returns True (else False)\n",
    "flag1a = isinstance(elex, note.Note)\n",
    "flag1b = isinstance(elex, chord.Chord)\n",
    "flag2a = isinstance(ele2, note.Note)\n",
    "flag2b = isinstance(ele2, chord.Chord)\n",
    "print(flag1a, flag1b, flag2a, flag2b)"
   ]
  },
  {
   "attachments": {},
   "cell_type": "markdown",
   "metadata": {},
   "source": [
    "#### Processing a Note :-"
   ]
  },
  {
   "cell_type": "code",
   "execution_count": 23,
   "metadata": {},
   "outputs": [
    {
     "name": "stdout",
     "output_type": "stream",
     "text": [
      "C5\n",
      "<class 'music21.note.Note'>\n",
      "<class 'music21.pitch.Pitch'>\n",
      "C5\n"
     ]
    }
   ],
   "source": [
    "note1 = elements_of_song[3]\n",
    "print(note1.pitch)\n",
    "print(type(note1))\n",
    "# This gives the note in form of a class\n",
    "print(type(note1.pitch))\n",
    "# Get the string from the class\n",
    "currNote = str(note1.pitch)\n",
    "print(currNote)\n",
    "# This will recover the note-name from class"
   ]
  },
  {
   "attachments": {},
   "cell_type": "markdown",
   "metadata": {},
   "source": [
    "#### Processing a Chord :-"
   ]
  },
  {
   "cell_type": "code",
   "execution_count": 24,
   "metadata": {},
   "outputs": [
    {
     "name": "stdout",
     "output_type": "stream",
     "text": [
      "<music21.chord.Chord C5 E4>\n",
      "<class 'music21.chord.Chord'>\n",
      "[0, 4]\n",
      "<class 'list'>\n",
      "0+4\n"
     ]
    }
   ],
   "source": [
    "chord1 = elements_of_song[1]\n",
    "print(chord1)\n",
    "print(type(chord1))\n",
    "# This is a chord, let's figure this out.. how to process this\n",
    "print(chord1.normalOrder)\n",
    "# chord.normalOrder --> Gives the list of nodes in it.\n",
    "# 2 --> A4\n",
    "# 6 --> D5\n",
    "# 9 --> F#4\n",
    "# (Following some pattern of indexing.. have to figure it out)\n",
    "print(type(chord1.normalOrder))\n",
    "# Convert the chord-list into a string, concatenated with \"+\"\n",
    "currChord = \"+\".join(str(x) for x in chord1.normalOrder)\n",
    "print(currChord)"
   ]
  },
  {
   "attachments": {},
   "cell_type": "markdown",
   "metadata": {},
   "source": [
    "#### Making a list, only of Notes (from Notes) OR (from Chords)"
   ]
  },
  {
   "cell_type": "code",
   "execution_count": 25,
   "metadata": {},
   "outputs": [],
   "source": [
    "notes_of_song = []\n",
    "# Empty array container for notes & chords\n",
    "\n",
    "for ele in elements_of_song:\n",
    "    # If element is a note, store it's pitch\n",
    "    if(isinstance(ele, note.Note) == True):\n",
    "        tempNote = str(ele.pitch)\n",
    "        notes_of_song.append(tempNote)\n",
    "    elif(isinstance(ele, chord.Chord) == True):\n",
    "    # Else, element is a chord, split notes, and make string of them\n",
    "        tempChord = \"+\".join(str(x) for x in ele.normalOrder)\n",
    "        notes_of_song.append(tempChord)"
   ]
  },
  {
   "cell_type": "code",
   "execution_count": 26,
   "metadata": {},
   "outputs": [
    {
     "name": "stdout",
     "output_type": "stream",
     "text": [
      "No. of notes/chords = 336\n",
      "['C5', '0+4', 'C2', 'C5', '0+4', 'C2', 'G4', 'G4', 'C5', 'C5', 'D5', '10+2', 'B-1', 'D5', '10+2', 'B-1', 'F4', 'F4', 'B-4', 'B-4', 'F5', '9+0', 'F1', 'F5', '9+0', 'F1', '9+0', 'F1', '9+0', 'F1', '7+11+2', 'G1', '7+11+2', 'G1', 'E5', 'C5', 'C2', 'E5', 'C5', 'C2', 'C2', 'C2', '7', '7', '0', '0', '2', 'G1', '2', '0', 'G1', '7+10', 'G4', '7+10', 'G4', 'G4', 'B-4', 'G4', 'B-4', 'G1', 'G1', 'G4', 'C5', 'C2', 'G4', 'C5', 'C2', 'C2', 'C2', '7+9', '7+9', '0', '0', '10', 'G1', '10', '0', 'G1', '10+2', '10+2', '0', '0', 'F4', 'D5', 'F4', 'D5', 'G1', 'G1', 'G4', 'E5', 'C2', 'G4', 'E5', 'C2', 'C2', 'C2', '2+7', '2+7', '4+9', '4+9', '5+9', 'G1', '5+9', '4+9', 'G1', '2+5', '2+5', 'F4', 'D5', 'F4', 'D5', '10', 'G1', '10', 'G1', '5+10', '5+10', 'B-4', 'F5', 'B-4', 'F5', 'A4', 'E5', 'C2', 'A4', 'E5', 'C2', 'C2', 'C2', '2+7', '2+7', '4+9', '4+9', '5+10', 'G1', '5+10', '4+9', 'G1', '2+7', '2+7', '5+10', '5+10', 'D5', 'B-5', 'D5', 'B-5', 'G1', 'G1', 'C5', 'G4', 'C2', 'C5', 'G4', 'C2', 'G5', 'C5', 'G5', 'C5', 'C2', 'C2', '7+0', '7+0', '10', 'G1', '10', 'G1', 'A4', 'A4', 'D5', 'D5', 'G4', 'G1', 'G4', 'G1', '5+10', '5+10', 'C5', 'E4', 'C2', 'C5', 'E4', 'C2', 'E4', 'E4', 'F4', 'F4', 'G4', 'G4', 'G5', 'G5', 'C2', 'C2', 'G4', 'G4', 'C5', 'C5', 'C5', 'C5', 'G4', 'G4', '10', 'G1', '10', 'G4', 'G1', 'A4', 'A4', 'D5', 'D5', 'G4', 'G1', 'G4', 'G1', 'B-4', 'E4', 'B-4', 'E4', 'F4', 'F4', 'C5', 'G4', 'C2', 'C5', 'G4', 'F4', 'C2', 'G5', 'C5', 'G5', 'C5', 'C2', 'C2', '7+0', '7+0', '10', 'G1', '10', 'G1', 'A4', 'A4', 'D5', 'D5', 'G4', 'G1', 'G4', 'G1', '5+10', '5+10', 'E4', 'E4', 'C2', 'E4', 'E4', 'C2', 'E4', 'E4', 'F4', 'F4', 'G4', 'G4', '7', 'C2', '7', 'C2', 'G4', 'G4', 'A4', 'A4', 'B-4', 'B-4', 'C5', 'C5', 'G1', 'C5', 'C5', 'G1', 'C5', 'C5', 'D5', 'D5', 'E5', 'E5', 'C5', 'G1', 'C5', 'G1', 'B-4', 'B-4', 'G5', '0+4', 'C2', 'G5', '0+4', 'C2', 'G4', 'G4', 'C5', 'C5', 'F5', '10+2', 'B-1', 'F5', '10+2', 'B-1', 'F4', 'F4', 'B-4', 'B-4', '0+5', 'A4', '9+0', 'F1', '0+5', 'A4', '9+0', 'F1', '5+9+0', 'A4', 'F1', '5+9+0', 'A4', 'F1', '7+11+2', 'G1', '7+11+2', 'G1', 'C6', '0+4+7', '0+4+7', '7+0', '0', 'C6', '0+4+7', '0+4+7', '7+0', '0']\n"
     ]
    }
   ],
   "source": [
    "print(\"No. of notes/chords =\", len(notes_of_song))\n",
    "print(notes_of_song)\n",
    "# for note1 in notes_of_song:\n",
    "#     print(note1)"
   ]
  },
  {
   "attachments": {},
   "cell_type": "markdown",
   "metadata": {},
   "source": [
    "## Get All the Notes, from all the Midi Files"
   ]
  },
  {
   "cell_type": "code",
   "execution_count": 27,
   "metadata": {},
   "outputs": [],
   "source": [
    "# import glob\n",
    "# from pathlib import Path\n",
    "\n",
    "# input_dir = Path.cwd()\n",
    "# files = list(input_dir.rglob(\"*.mid\"))\n",
    "\n",
    "# notes = []\n",
    "# for file in files:\n",
    "#     song = converter.parse(file)\n",
    "#     # Convert file into stream.Score object\n",
    "#     # ..which just contains notes/chords\n",
    "#     print(\"parsing\", file)\n",
    "#     file = file.resolve()\n",
    "#     print(type(file))\n",
    "#     elements_of_song = song.flat.notes\n",
    "#     for ele in elements_of_song:\n",
    "#         # If element is a note, store it's pitch\n",
    "#         if(isinstance(ele, note.Note) == True):\n",
    "#             tempNote = str(ele.pitch)\n",
    "#             notes_of_song.append(tempNote)\n",
    "#         elif(isinstance(ele, chord.Chord) == True):\n",
    "#         # Else, element is a chord, split notes, and make string of them\n",
    "#             tempChord = \"+\".join(str(x) for x in ele.normalOrder)\n",
    "#             notes_of_song.append(tempChord)"
   ]
  },
  {
   "cell_type": "code",
   "execution_count": 28,
   "metadata": {},
   "outputs": [
    {
     "name": "stdout",
     "output_type": "stream",
     "text": [
      "parsing midi_songs\\0fithos.mid\n",
      "parsing midi_songs\\8.mid\n",
      "parsing midi_songs\\ahead_on_our_way_piano.mid\n",
      "parsing midi_songs\\AT.mid\n",
      "parsing midi_songs\\balamb.mid\n",
      "parsing midi_songs\\bcm.mid\n",
      "parsing midi_songs\\BlueStone_LastDungeon.mid\n",
      "parsing midi_songs\\braska.mid\n",
      "parsing midi_songs\\caitsith.mid\n",
      "parsing midi_songs\\Cids.mid\n",
      "parsing midi_songs\\cosmo.mid\n",
      "parsing midi_songs\\costadsol.mid\n",
      "parsing midi_songs\\dayafter.mid\n",
      "parsing midi_songs\\decisive.mid\n",
      "parsing midi_songs\\dontbeafraid.mid\n"
     ]
    }
   ],
   "source": [
    "notes = []\n",
    "\n",
    "count = 0\n",
    "for file in glob.glob(\"midi_songs/*.mid\"):\n",
    "    midi = converter.parse(file) # Convert file into stream.Score Object\n",
    "    if count < 15:\n",
    "        print(\"parsing %s\"%file)    \n",
    "    elements_to_parse = midi.flat.notes\n",
    "    count += 1\n",
    "\n",
    "    for elex in elements_to_parse:\n",
    "        # If the element is a Note,  then store it's pitch\n",
    "        if(isinstance(elex, chord.Chord) == True):\n",
    "            notes.append(\"+\".join(str(n) for n in elex.normalOrder))\n",
    "        elif(isinstance(elex, note.Note) == True):\n",
    "            noteString = str(elex.pitch)\n",
    "            notes.append(noteString)\n",
    "            # If the element is a Chord, split each note of chord and join them with +"
   ]
  },
  {
   "cell_type": "code",
   "execution_count": 29,
   "metadata": {},
   "outputs": [
    {
     "name": "stdout",
     "output_type": "stream",
     "text": [
      "Length of notes-array =  60764\n",
      "Some elements of note array :-\n",
      "4+9\n",
      "E2\n",
      "4+9\n",
      "4+9\n",
      "4+9\n",
      "4+9\n",
      "4+9\n",
      "4+9\n",
      "4+9\n",
      "11+4\n",
      "4+9\n"
     ]
    }
   ],
   "source": [
    "print(\"Length of notes-array = \", len(notes))\n",
    "print(\"Some elements of note array :-\")\n",
    "count = 0\n",
    "for n in notes:\n",
    "    print(n)\n",
    "    count += 1\n",
    "    if count > 10:\n",
    "        break"
   ]
  },
  {
   "attachments": {},
   "cell_type": "markdown",
   "metadata": {},
   "source": [
    "## Saving the file, containing all Notes"
   ]
  },
  {
   "cell_type": "code",
   "execution_count": 30,
   "metadata": {},
   "outputs": [],
   "source": [
    "import pickle\n",
    "\n",
    "with open(\"notes\", 'wb') as filepath:\n",
    "    pickle.dump(notes, filepath)"
   ]
  },
  {
   "cell_type": "code",
   "execution_count": 31,
   "metadata": {},
   "outputs": [],
   "source": [
    "# 'wb' --> Write-binary mode (to write data in a file)\n",
    "# 'rb' --> Read-binary mode (to read data from a file)\n",
    "\n",
    "with open(\"notes\", 'rb') as f:\n",
    "    notes = pickle.load(f)\n",
    "    # This will load whole file-data to variable notes"
   ]
  },
  {
   "cell_type": "code",
   "execution_count": 32,
   "metadata": {},
   "outputs": [],
   "source": [
    "# print(notes[100:200])\n",
    "# Viewing a sliced part of dataset"
   ]
  },
  {
   "attachments": {},
   "cell_type": "markdown",
   "metadata": {},
   "source": [
    "#### Count of Unique Elements in Music :-"
   ]
  },
  {
   "cell_type": "code",
   "execution_count": 33,
   "metadata": {},
   "outputs": [
    {
     "name": "stdout",
     "output_type": "stream",
     "text": [
      "398\n"
     ]
    }
   ],
   "source": [
    "# In 'wb' and 'rb', same file needs to be referenced.\n",
    "# Else, Will give error --> \"Ran out of data\".\n",
    "print(len(set(notes)))\n",
    "# This will print unique no. of elements.\n",
    "# i.e. --> Unique notes/chords in all files.\n",
    "numElements = len(set(notes))"
   ]
  },
  {
   "cell_type": "code",
   "execution_count": 34,
   "metadata": {},
   "outputs": [],
   "source": [
    "# print(notes[:100])"
   ]
  },
  {
   "attachments": {},
   "cell_type": "markdown",
   "metadata": {},
   "source": [
    "## Preparing Sequenctial Data for LSTM :-"
   ]
  },
  {
   "attachments": {},
   "cell_type": "markdown",
   "metadata": {},
   "source": [
    "In Markov chain, we have a window size. So choosing a sequence length. This length also states, how many elements are considered in a LSTM layer."
   ]
  },
  {
   "cell_type": "code",
   "execution_count": 35,
   "metadata": {},
   "outputs": [
    {
     "name": "stdout",
     "output_type": "stream",
     "text": [
      "['0', '0+1', '0+1+3', '0+1+5', '0+1+6', '0+2', '0+2+3+7', '0+2+4+5', '0+2+4+7', '0+2+5', '0+2+6', '0+2+7', '0+3', '0+3+5', '0+3+5+8', '0+3+6', '0+3+6+8', '0+3+6+9', '0+3+7', '0+4', '0+4+5', '0+4+6', '0+4+7', '0+5', '0+6', '1', '1+2', '1+2+4+6', '1+2+4+6+8+10', '1+2+6', '1+2+6+9', '1+3', '1+3+4+8', '1+3+5', '1+3+5+8', '1+3+6', '1+3+7', '1+3+8', '1+4', '1+4+6', '1+4+6+8', '1+4+6+9', '1+4+7', '1+4+7+10', '1+4+7+9', '1+4+8', '1+5', '1+5+8', '1+5+9', '1+6', '1+7', '10', '10+0', '10+0+2', '10+0+2+5', '10+0+3', '10+0+4', '10+0+5', '10+1', '10+1+3', '10+1+3+4+6', '10+1+3+5+6', '10+1+3+6', '10+1+4', '10+1+4+6', '10+1+5', '10+11', '10+11+1', '10+11+1+3', '10+11+1+3+4+6', '10+11+1+4+6', '10+11+3', '10+11+3+4', '10+11+3+5', '10+2', '10+2+3', '10+2+4', '10+2+5', '10+3', '11', '11+0', '11+0+2', '11+0+2+4', '11+0+4', '11+0+4+6', '11+0+4+7', '11+0+5', '11+1', '11+1+2+4', '11+1+3', '11+1+4', '11+1+4+5', '11+1+5', '11+1+6', '11+2', '11+2+4', '11+2+4+6', '11+2+4+7', '11+2+5', '11+2+5+6', '11+2+5+7', '11+2+6', '11+3', '11+3+5', '11+3+6', '11+4', '11+4+5', '2', '2+3', '2+3+7', '2+3+7+10', '2+3+7+9', '2+4', '2+4+5', '2+4+5+9', '2+4+6+7', '2+4+6+9+11', '2+4+7', '2+4+7+10', '2+4+8', '2+4+9', '2+5', '2+5+7', '2+5+7+10', '2+5+7+9', '2+5+8', '2+5+8+10', '2+5+8+11', '2+5+9', '2+6', '2+6+10', '2+6+7', '2+6+7+9', '2+6+8', '2+6+9', '2+7', '2+7+8', '2+8', '3', '3+4', '3+4+6', '3+4+8', '3+4+8+10', '3+4+8+11', '3+5', '3+5+10', '3+5+7', '3+5+7+10', '3+5+7+8+11', '3+5+8', '3+5+8+11', '3+6', '3+6+10', '3+6+7', '3+6+8', '3+6+8+11', '3+6+9+11', '3+7', '3+7+10', '3+7+11', '3+7+9', '3+7+9+10', '3+8', '3+8+9', '3+9', '4', '4+10', '4+5', '4+5+7+11', '4+5+7+9', '4+5+9', '4+5+9+0', '4+5+9+11', '4+6', '4+6+10', '4+6+11', '4+6+7', '4+6+7+9', '4+6+8', '4+6+8+10+1', '4+6+8+11+1', '4+6+9', '4+6+9+11', '4+7', '4+7+10', '4+7+11', '4+7+9', '4+7+9+0', '4+7+9+11', '4+8', '4+8+10', '4+8+11', '4+8+9', '4+8+9+11', '4+9', '4+9+10', '5', '5+10', '5+11', '5+6', '5+6+10+0', '5+6+8', '5+7', '5+7+0', '5+7+10', '5+7+8+0', '5+7+9+0', '5+7+9+11', '5+8', '5+8+0', '5+8+10', '5+8+11', '5+9', '5+9+0', '5+9+11', '5+9+11+0', '6', '6+10', '6+10+0', '6+10+1', '6+10+11', '6+10+11+1', '6+11', '6+11+0', '6+7', '6+7+0', '6+7+11', '6+7+11+2', '6+7+9+11', '6+8', '6+8+0', '6+8+1', '6+8+10', '6+8+10+0+3', '6+8+10+1', '6+8+11', '6+8+11+2', '6+9', '6+9+0', '6+9+0+2', '6+9+1', '6+9+11', '6+9+11+1', '6+9+11+2', '7', '7+0', '7+10', '7+10+0', '7+10+0+3', '7+10+1', '7+10+1+3', '7+10+2', '7+11', '7+11+0', '7+11+2', '7+8', '7+8+0', '7+8+0+3', '7+8+10+2', '7+8+11', '7+9', '7+9+0', '7+9+1', '7+9+11', '7+9+11+0', '7+9+11+1', '7+9+11+2', '7+9+2', '8', '8+0', '8+0+1', '8+0+2', '8+0+3', '8+1', '8+10', '8+10+0', '8+10+1', '8+10+1+3', '8+10+1+4', '8+10+11', '8+10+11+1', '8+10+11+1+4', '8+10+11+3', '8+10+2', '8+10+3', '8+11', '8+11+1', '8+11+1+3+4', '8+11+1+4', '8+11+2', '8+11+3', '8+9', '8+9+1', '8+9+1+3', '8+9+1+4', '8+9+11+1+3', '8+9+2', '9', '9+0', '9+0+2', '9+0+2+4', '9+0+2+5', '9+0+3', '9+0+3+5', '9+0+4', '9+1', '9+1+2', '9+1+4', '9+10', '9+10+2', '9+10+2+4', '9+10+3', '9+11', '9+11+0+2', '9+11+0+4', '9+11+1', '9+11+1+2', '9+11+2', '9+11+2+4', '9+11+2+5', '9+11+3', '9+11+4', '9+2', '9+2+3', 'A1', 'A2', 'A3', 'A4', 'A5', 'A6', 'B-1', 'B-2', 'B-3', 'B-4', 'B-5', 'B-6', 'B1', 'B2', 'B3', 'B4', 'B5', 'B6', 'C#1', 'C#2', 'C#3', 'C#4', 'C#5', 'C#6', 'C#7', 'C2', 'C3', 'C4', 'C5', 'C6', 'C7', 'D1', 'D2', 'D3', 'D4', 'D5', 'D6', 'D7', 'E-1', 'E-2', 'E-3', 'E-4', 'E-5', 'E-6', 'E1', 'E2', 'E3', 'E4', 'E5', 'E6', 'F#1', 'F#2', 'F#3', 'F#4', 'F#5', 'F#6', 'F1', 'F2', 'F3', 'F4', 'F5', 'F6', 'G#1', 'G#2', 'G#3', 'G#4', 'G#5', 'G#6', 'G1', 'G2', 'G3', 'G4', 'G5', 'G6']\n",
      "398\n"
     ]
    }
   ],
   "source": [
    "sequenceLength = 100\n",
    "# Will give 100 elements to a layer, and will predict output for next layer using them.\n",
    "\n",
    "uniqueNotes = sorted(set(notes))\n",
    "print(uniqueNotes)\n",
    "countNodes = len(uniqueNotes)\n",
    "print(len(uniqueNotes))"
   ]
  },
  {
   "attachments": {},
   "cell_type": "markdown",
   "metadata": {},
   "source": [
    "#### Mapping Strings (unique-elements) to Integer values :-"
   ]
  },
  {
   "cell_type": "code",
   "execution_count": 36,
   "metadata": {},
   "outputs": [
    {
     "name": "stdout",
     "output_type": "stream",
     "text": [
      "0  :  0\n",
      "0+1  :  1\n",
      "0+1+3  :  2\n",
      "0+1+5  :  3\n",
      "0+1+6  :  4\n",
      "0+2  :  5\n",
      "0+2+3+7  :  6\n",
      "0+2+4+5  :  7\n",
      "0+2+4+7  :  8\n",
      "0+2+5  :  9\n",
      "0+2+6  :  10\n"
     ]
    }
   ],
   "source": [
    "# As ML models work with numerial data only, will map each string with a number.\n",
    "noteMap = dict((ele, num) for num, ele in enumerate(uniqueNotes))\n",
    "\n",
    "count = 0\n",
    "for ele in noteMap:\n",
    "    print(ele, \" : \", noteMap[ele])\n",
    "    count += 1\n",
    "    if count > 10:\n",
    "        break"
   ]
  },
  {
   "attachments": {},
   "cell_type": "markdown",
   "metadata": {},
   "source": [
    "--> As sequenceLength is 100, will take first 100 data to input, and 101st data as output.\n",
    "--> For next iteration, take (2-101) data points as input, and 102nd data as output.\n",
    "--> So on...  Sliding window (of size 100) as input, & next 1 data as output.\n",
    "\n",
    "--> So, total we will get (len(notes) - sequenceLength) datapoints."
   ]
  },
  {
   "cell_type": "code",
   "execution_count": 37,
   "metadata": {},
   "outputs": [],
   "source": [
    "networkInput = [] # input-data\n",
    "networkOutput = [] # will try to get output, using input\n",
    "\n",
    "for i in range(len(notes) - sequenceLength):\n",
    "    inputSeq = notes[i : i+sequenceLength] # 100 string-values\n",
    "    outputSeq = notes[i + sequenceLength] # 1 string-value\n",
    "    # Currently, inputSeq & outputSeq has strings.\n",
    "    # Use map, to convert it to integer-values.\n",
    "    # ..as ML-algorithm works only on numerical data.\n",
    "    networkInput.append([noteMap[ch] for ch in inputSeq])\n",
    "    networkOutput.append(noteMap[outputSeq])\n",
    "\n",
    "    # for tempStr in inputSeq:\n",
    "    #     tempNum = noteMap[tempStr]\n",
    "    #     # got no. from string, using note-map\n",
    "    #     networkInput.append(tempNum)\n",
    "    # for temp in outputSeq:\n",
    "    #     tempNum = noteMap[tempStr]\n",
    "    #     # got no. from string, using note-map\n",
    "    #     networkOutput.append(tempNum)"
   ]
  },
  {
   "cell_type": "code",
   "execution_count": 38,
   "metadata": {},
   "outputs": [
    {
     "name": "stdout",
     "output_type": "stream",
     "text": [
      "60664\n",
      "60664\n"
     ]
    }
   ],
   "source": [
    "print(len(networkInput))\n",
    "print(len(networkOutput))"
   ]
  },
  {
   "attachments": {},
   "cell_type": "markdown",
   "metadata": {},
   "source": [
    "#### Create ready-data for Neural Network :-"
   ]
  },
  {
   "cell_type": "code",
   "execution_count": 39,
   "metadata": {},
   "outputs": [],
   "source": [
    "import numpy as np"
   ]
  },
  {
   "cell_type": "code",
   "execution_count": 40,
   "metadata": {},
   "outputs": [
    {
     "name": "stdout",
     "output_type": "stream",
     "text": [
      "(60664, 100, 1)\n"
     ]
    }
   ],
   "source": [
    "# n_patterns = int(len(networkInput)/100)\n",
    "# No. of rows divided by 100.. as 100 columns, so Distributing data in 3-D format\n",
    "\n",
    "n_patterns = len(networkInput)\n",
    "\n",
    "networkInput = np.reshape(networkInput, (n_patterns, sequenceLength, 1))\n",
    "# LSTM recieves input data in 3-dimensions\n",
    "print(networkInput.shape)"
   ]
  },
  {
   "attachments": {},
   "cell_type": "markdown",
   "metadata": {},
   "source": [
    "#### Normalize this data"
   ]
  },
  {
   "cell_type": "code",
   "execution_count": 41,
   "metadata": {},
   "outputs": [
    {
     "name": "stdout",
     "output_type": "stream",
     "text": [
      "Some elements of normNetworkInput[0] array :-\n",
      "[0.48743719]\n",
      "[0.92713568]\n",
      "[0.48743719]\n",
      "[0.48743719]\n",
      "[0.48743719]\n",
      "[0.48743719]\n",
      "[0.48743719]\n",
      "[0.48743719]\n",
      "[0.48743719]\n",
      "[0.2638191]\n",
      "[0.48743719]\n"
     ]
    }
   ],
   "source": [
    "# As the values are from 0 - uniqueNodes\n",
    "# For better precision, converting data in range [0 - 1]\n",
    "\n",
    "normNetworkInput = networkInput / float(numElements)\n",
    "\n",
    "print(\"Some elements of normNetworkInput[0] array :-\")\n",
    "count = 0\n",
    "for ele in normNetworkInput[0]:\n",
    "    print(ele)\n",
    "    count += 1\n",
    "    if count > 10:\n",
    "        break"
   ]
  },
  {
   "cell_type": "code",
   "execution_count": 42,
   "metadata": {},
   "outputs": [],
   "source": [
    "# normNetworkInput\n",
    "# Now, values are in range [0 - 1]"
   ]
  },
  {
   "cell_type": "code",
   "execution_count": 43,
   "metadata": {},
   "outputs": [],
   "source": [
    "# Network output are the classes, encoded into 1-vector"
   ]
  },
  {
   "cell_type": "code",
   "execution_count": 44,
   "metadata": {},
   "outputs": [],
   "source": [
    "from keras.utils import np_utils"
   ]
  },
  {
   "cell_type": "code",
   "execution_count": 45,
   "metadata": {},
   "outputs": [
    {
     "name": "stdout",
     "output_type": "stream",
     "text": [
      "Some elements of networkOutput array :-\n",
      "382\n",
      "381\n",
      "381\n",
      "381\n",
      "381\n",
      "381\n",
      "194\n",
      "372\n",
      "194\n",
      "352\n",
      "194\n"
     ]
    }
   ],
   "source": [
    "print(\"Some elements of networkOutput array :-\")\n",
    "count = 0\n",
    "for ele in networkOutput:\n",
    "    print(ele)\n",
    "    count += 1\n",
    "    if count > 10:\n",
    "        break"
   ]
  },
  {
   "cell_type": "code",
   "execution_count": 46,
   "metadata": {},
   "outputs": [
    {
     "name": "stdout",
     "output_type": "stream",
     "text": [
      "(60664, 398)\n"
     ]
    }
   ],
   "source": [
    "networkOutput = np_utils.to_categorical(networkOutput)\n",
    "print(networkOutput.shape)\n",
    "\n",
    "# This will convert output-data to a 2-D format\n",
    "# In which each key(old-output value) has 229 categorical values\n",
    "# And, the one which matches has some kind of flag marked to it."
   ]
  },
  {
   "attachments": {},
   "cell_type": "markdown",
   "metadata": {},
   "source": [
    "# Create Model"
   ]
  },
  {
   "attachments": {},
   "cell_type": "markdown",
   "metadata": {},
   "source": [
    "#### Download & Import Packages"
   ]
  },
  {
   "cell_type": "code",
   "execution_count": 47,
   "metadata": {},
   "outputs": [],
   "source": [
    "from keras.models import Sequential\n",
    "from keras.layers import *\n",
    "from keras.callbacks import ModelCheckpoint, EarlyStopping"
   ]
  },
  {
   "cell_type": "code",
   "execution_count": 37,
   "metadata": {},
   "outputs": [],
   "source": [
    "# pip install keras\n",
    "# pip install tensorflow"
   ]
  },
  {
   "cell_type": "code",
   "execution_count": 38,
   "metadata": {},
   "outputs": [],
   "source": [
    "# import tensorflow as tf\n",
    "# just to check if tensorflow is working.."
   ]
  },
  {
   "attachments": {},
   "cell_type": "markdown",
   "metadata": {},
   "source": [
    "### Creating a Sequential Model :-"
   ]
  },
  {
   "cell_type": "code",
   "execution_count": 48,
   "metadata": {},
   "outputs": [],
   "source": [
    "model = Sequential()"
   ]
  },
  {
   "attachments": {},
   "cell_type": "markdown",
   "metadata": {},
   "source": [
    "### Adding Layers to the Model :-"
   ]
  },
  {
   "cell_type": "code",
   "execution_count": 49,
   "metadata": {},
   "outputs": [],
   "source": [
    "# And, this model has first layer as LSTM layer.\n",
    "model.add(LSTM(units=512, input_shape=(normNetworkInput.shape[1], normNetworkInput.shape[2]), return_sequences=True))\n",
    "# As this is the 1st layer, so we need to provide the input-shape (in argument)\n",
    "# Here we are passing (100,1) as input_shape, as all data-points have shape (100,1)\n",
    "# Also, we have to do return_sequences=True, as this isn't the last layer, also have further layers.\n",
    "\n",
    "\n",
    "# After the 1st layer, adding a Dropout\n",
    "model.add(Dropout(0.3))\n",
    "\n",
    "# Also adding another LSTM layer.\n",
    "model.add(LSTM(512, return_sequences=True))\n",
    "# as this is also not the last layer.. return_sequences=True\n",
    "\n",
    "# Again adding a Dropout\n",
    "model.add(Dropout(0.3))\n",
    "\n",
    "# And, now 1-more LSTM layer.\n",
    "model.add(LSTM(512))\n",
    "\n",
    "# And, adding a Dense-layer.\n",
    "model.add(Dense(256))\n",
    "\n",
    "# Again adding a Dropout.\n",
    "model.add(Dropout(0.3))\n",
    "\n",
    "# Now, the final layer.\n",
    "#   (Adding dense layer with no. of neurons = countNodes)\n",
    "#   (Also having an \"softmax\" activation function)\n",
    "model.add(Dense(numElements, activation=\"softmax\"))"
   ]
  },
  {
   "attachments": {},
   "cell_type": "markdown",
   "metadata": {},
   "source": [
    "#### Compiling the model :-"
   ]
  },
  {
   "cell_type": "code",
   "execution_count": 50,
   "metadata": {},
   "outputs": [],
   "source": [
    "model.compile(loss=\"categorical_crossentropy\", optimizer=\"adam\")\n",
    "# loss=\"categorical_crossentropy\" --> since it has 229 classes.\n",
    "# Not specifying any metrics (like accuracy), as it would not be a good metrics to evaluate."
   ]
  },
  {
   "attachments": {},
   "cell_type": "markdown",
   "metadata": {},
   "source": [
    "### This is our Model :-"
   ]
  },
  {
   "cell_type": "code",
   "execution_count": 42,
   "metadata": {},
   "outputs": [
    {
     "name": "stdout",
     "output_type": "stream",
     "text": [
      "Model: \"sequential\"\n",
      "_________________________________________________________________\n",
      " Layer (type)                Output Shape              Param #   \n",
      "=================================================================\n",
      " lstm (LSTM)                 (None, 100, 512)          1052672   \n",
      "                                                                 \n",
      " dropout (Dropout)           (None, 100, 512)          0         \n",
      "                                                                 \n",
      " lstm_1 (LSTM)               (None, 100, 512)          2099200   \n",
      "                                                                 \n",
      " dropout_1 (Dropout)         (None, 100, 512)          0         \n",
      "                                                                 \n",
      " lstm_2 (LSTM)               (None, 512)               2099200   \n",
      "                                                                 \n",
      " dense (Dense)               (None, 256)               131328    \n",
      "                                                                 \n",
      " dropout_2 (Dropout)         (None, 256)               0         \n",
      "                                                                 \n",
      " dense_1 (Dense)             (None, 398)               102286    \n",
      "                                                                 \n",
      "=================================================================\n",
      "Total params: 5,484,686\n",
      "Trainable params: 5,484,686\n",
      "Non-trainable params: 0\n",
      "_________________________________________________________________\n"
     ]
    }
   ],
   "source": [
    "model.summary()"
   ]
  },
  {
   "attachments": {},
   "cell_type": "markdown",
   "metadata": {},
   "source": [
    "### Training the Model :-"
   ]
  },
  {
   "cell_type": "code",
   "execution_count": 51,
   "metadata": {},
   "outputs": [],
   "source": [
    "import tensorflow as tf"
   ]
  },
  {
   "cell_type": "code",
   "execution_count": 52,
   "metadata": {},
   "outputs": [
    {
     "name": "stdout",
     "output_type": "stream",
     "text": [
      "Epoch 1/10\n",
      "948/948 [==============================] - 4003s 4s/step - loss: 4.8030\n",
      "Epoch 2/10\n",
      "948/948 [==============================] - 3837s 4s/step - loss: 4.7745\n",
      "Epoch 3/10\n",
      "948/948 [==============================] - 3842s 4s/step - loss: 4.7721\n",
      "Epoch 4/10\n",
      "948/948 [==============================] - 3839s 4s/step - loss: 4.7687\n",
      "Epoch 5/10\n",
      "948/948 [==============================] - 12148s 13s/step - loss: 4.7669\n",
      "Epoch 6/10\n",
      "948/948 [==============================] - 3739s 4s/step - loss: 4.7658\n",
      "Epoch 7/10\n",
      "948/948 [==============================] - 3994s 4s/step - loss: 4.7650\n",
      "Epoch 8/10\n",
      "948/948 [==============================] - 3497s 4s/step - loss: 4.7646\n",
      "Epoch 9/10\n",
      "948/948 [==============================] - 3606s 4s/step - loss: 4.7646\n",
      "Epoch 10/10\n",
      "948/948 [==============================] - 3747s 4s/step - loss: 4.7644\n"
     ]
    }
   ],
   "source": [
    "# (Entire code commented out, to prevent created model, from starting fit again, and old work getting wasted)\n",
    "\n",
    "# Creating callbacks for fitting model.\n",
    "\n",
    "# checkpoint = ModelCheckpoint(\"model3.hdf5\", monitor='loss', verbose=0, save_best_only=True, mode='min')\n",
    "# 1st arg  -->  where the model will be saved\n",
    "# 2nd arg  -->  We have to monitor the loss\n",
    "# 5th arg  -->  As monitoring loss, so mode = \"min\", as loss should be minimum.\n",
    "\n",
    "# We can also create an earlystopping callback, but lets only keep the checkpoint.\n",
    "\n",
    "# Fitting the model :-\n",
    "\n",
    "# normNetworkInput = np.array(normNetworkInput)\n",
    "# networkOutput = np.array(networkOutput)\n",
    "\n",
    "# model_his = model.fit(normNetworkInput, networkOutput, epochs=10, batch_size=64, callbacks=[checkpoint])\n",
    "# No. of epochs = 10 (trying for model3)\n",
    "# batch size = 64"
   ]
  },
  {
   "attachments": {},
   "cell_type": "markdown",
   "metadata": {},
   "source": [
    "## Load Model :-"
   ]
  },
  {
   "cell_type": "code",
   "execution_count": 52,
   "metadata": {},
   "outputs": [],
   "source": [
    "from keras.models import load_model"
   ]
  },
  {
   "cell_type": "code",
   "execution_count": 53,
   "metadata": {},
   "outputs": [],
   "source": [
    "model = load_model(\"model4.hdf5\")"
   ]
  },
  {
   "attachments": {},
   "cell_type": "markdown",
   "metadata": {},
   "source": [
    "## Predictions :-"
   ]
  },
  {
   "cell_type": "code",
   "execution_count": 54,
   "metadata": {},
   "outputs": [],
   "source": [
    "sequenceLength = 100"
   ]
  },
  {
   "cell_type": "code",
   "execution_count": 55,
   "metadata": {},
   "outputs": [],
   "source": [
    "networkInput = [] # input-data\n",
    "\n",
    "for i in range(len(notes) - sequenceLength):\n",
    "    inputSeq = notes[i : i+sequenceLength] # 100 string-values\n",
    "    # Currently, inputSeq & outputSeq has strings.\n",
    "    # Use map, to convert it to integer-values.\n",
    "    # ..as ML-algorithm works only on numerical data.\n",
    "    networkInput.append([noteMap[ch] for ch in inputSeq])"
   ]
  },
  {
   "cell_type": "code",
   "execution_count": 56,
   "metadata": {},
   "outputs": [
    {
     "name": "stdout",
     "output_type": "stream",
     "text": [
      "Some elements of networkInput[0] array :-\n",
      "194\n",
      "369\n",
      "194\n",
      "194\n",
      "194\n",
      "194\n",
      "194\n",
      "194\n",
      "194\n",
      "105\n",
      "194\n"
     ]
    }
   ],
   "source": [
    "print(\"Some elements of networkInput[0] array :-\")\n",
    "count = 0\n",
    "for ele in networkInput[0]:\n",
    "    print(ele)\n",
    "    count += 1\n",
    "    if count > 10:\n",
    "        break"
   ]
  },
  {
   "cell_type": "code",
   "execution_count": 57,
   "metadata": {},
   "outputs": [
    {
     "name": "stdout",
     "output_type": "stream",
     "text": [
      "100\n"
     ]
    }
   ],
   "source": [
    "print(len(networkInput[300]))"
   ]
  },
  {
   "cell_type": "code",
   "execution_count": 58,
   "metadata": {},
   "outputs": [],
   "source": [
    "# Each data-point has 100-elements (in networkInput)\n",
    "# We will give these 100-elements as input, & it will generate 1-output.\n",
    "# Will add this 1-output in input, & discard oldest element from input. (again getting to 100 input-elements)\n",
    "\n",
    "# This way, we will keep predicting 1-element each time."
   ]
  },
  {
   "cell_type": "code",
   "execution_count": 59,
   "metadata": {},
   "outputs": [],
   "source": [
    "startIdx = np.random.randint(len(networkInput)-1)\n",
    "# This will get any random data-point-index from the input-data\n",
    "# Data at each random data-point-index means --> 100 elements."
   ]
  },
  {
   "cell_type": "code",
   "execution_count": 60,
   "metadata": {},
   "outputs": [
    {
     "name": "stdout",
     "output_type": "stream",
     "text": [
      "23047\n"
     ]
    }
   ],
   "source": [
    "print(startIdx)"
   ]
  },
  {
   "cell_type": "code",
   "execution_count": 61,
   "metadata": {},
   "outputs": [
    {
     "name": "stdout",
     "output_type": "stream",
     "text": [
      "Some elements of networkInput[startIdx] array are :-\n",
      "107\n",
      "0\n",
      "79\n",
      "297\n",
      "97\n",
      "165\n",
      "97\n",
      "97\n",
      "187\n",
      "107\n",
      "0\n"
     ]
    }
   ],
   "source": [
    "networkInput[startIdx]\n",
    "\n",
    "print(\"Some elements of networkInput[startIdx] array are :-\")\n",
    "count = 0\n",
    "for ele in networkInput[startIdx]:\n",
    "    print(ele)\n",
    "    count += 1\n",
    "    if count > 10:\n",
    "        break"
   ]
  },
  {
   "cell_type": "code",
   "execution_count": 62,
   "metadata": {},
   "outputs": [],
   "source": [
    "# Above 100-element np-array, is the start sequence.\n",
    "\n",
    "# Right now, we have :-\n",
    "# element --> integer  mapping\n",
    "\n",
    "# What is also required is :-\n",
    "# integer --> element  mapping."
   ]
  },
  {
   "cell_type": "code",
   "execution_count": 63,
   "metadata": {},
   "outputs": [
    {
     "name": "stdout",
     "output_type": "stream",
     "text": [
      "{0: '0', 1: '0+1', 2: '0+1+3', 3: '0+1+5', 4: '0+1+6', 5: '0+2', 6: '0+2+3+7', 7: '0+2+4+5', 8: '0+2+4+7', 9: '0+2+5', 10: '0+2+6', 11: '0+2+7', 12: '0+3', 13: '0+3+5', 14: '0+3+5+8', 15: '0+3+6', 16: '0+3+6+8', 17: '0+3+6+9', 18: '0+3+7', 19: '0+4', 20: '0+4+5', 21: '0+4+6', 22: '0+4+7', 23: '0+5', 24: '0+6', 25: '1', 26: '1+2', 27: '1+2+4+6', 28: '1+2+4+6+8+10', 29: '1+2+6', 30: '1+2+6+9', 31: '1+3', 32: '1+3+4+8', 33: '1+3+5', 34: '1+3+5+8', 35: '1+3+6', 36: '1+3+7', 37: '1+3+8', 38: '1+4', 39: '1+4+6', 40: '1+4+6+8', 41: '1+4+6+9', 42: '1+4+7', 43: '1+4+7+10', 44: '1+4+7+9', 45: '1+4+8', 46: '1+5', 47: '1+5+8', 48: '1+5+9', 49: '1+6', 50: '1+7', 51: '10', 52: '10+0', 53: '10+0+2', 54: '10+0+2+5', 55: '10+0+3', 56: '10+0+4', 57: '10+0+5', 58: '10+1', 59: '10+1+3', 60: '10+1+3+4+6', 61: '10+1+3+5+6', 62: '10+1+3+6', 63: '10+1+4', 64: '10+1+4+6', 65: '10+1+5', 66: '10+11', 67: '10+11+1', 68: '10+11+1+3', 69: '10+11+1+3+4+6', 70: '10+11+1+4+6', 71: '10+11+3', 72: '10+11+3+4', 73: '10+11+3+5', 74: '10+2', 75: '10+2+3', 76: '10+2+4', 77: '10+2+5', 78: '10+3', 79: '11', 80: '11+0', 81: '11+0+2', 82: '11+0+2+4', 83: '11+0+4', 84: '11+0+4+6', 85: '11+0+4+7', 86: '11+0+5', 87: '11+1', 88: '11+1+2+4', 89: '11+1+3', 90: '11+1+4', 91: '11+1+4+5', 92: '11+1+5', 93: '11+1+6', 94: '11+2', 95: '11+2+4', 96: '11+2+4+6', 97: '11+2+4+7', 98: '11+2+5', 99: '11+2+5+6', 100: '11+2+5+7', 101: '11+2+6', 102: '11+3', 103: '11+3+5', 104: '11+3+6', 105: '11+4', 106: '11+4+5', 107: '2', 108: '2+3', 109: '2+3+7', 110: '2+3+7+10', 111: '2+3+7+9', 112: '2+4', 113: '2+4+5', 114: '2+4+5+9', 115: '2+4+6+7', 116: '2+4+6+9+11', 117: '2+4+7', 118: '2+4+7+10', 119: '2+4+8', 120: '2+4+9', 121: '2+5', 122: '2+5+7', 123: '2+5+7+10', 124: '2+5+7+9', 125: '2+5+8', 126: '2+5+8+10', 127: '2+5+8+11', 128: '2+5+9', 129: '2+6', 130: '2+6+10', 131: '2+6+7', 132: '2+6+7+9', 133: '2+6+8', 134: '2+6+9', 135: '2+7', 136: '2+7+8', 137: '2+8', 138: '3', 139: '3+4', 140: '3+4+6', 141: '3+4+8', 142: '3+4+8+10', 143: '3+4+8+11', 144: '3+5', 145: '3+5+10', 146: '3+5+7', 147: '3+5+7+10', 148: '3+5+7+8+11', 149: '3+5+8', 150: '3+5+8+11', 151: '3+6', 152: '3+6+10', 153: '3+6+7', 154: '3+6+8', 155: '3+6+8+11', 156: '3+6+9+11', 157: '3+7', 158: '3+7+10', 159: '3+7+11', 160: '3+7+9', 161: '3+7+9+10', 162: '3+8', 163: '3+8+9', 164: '3+9', 165: '4', 166: '4+10', 167: '4+5', 168: '4+5+7+11', 169: '4+5+7+9', 170: '4+5+9', 171: '4+5+9+0', 172: '4+5+9+11', 173: '4+6', 174: '4+6+10', 175: '4+6+11', 176: '4+6+7', 177: '4+6+7+9', 178: '4+6+8', 179: '4+6+8+10+1', 180: '4+6+8+11+1', 181: '4+6+9', 182: '4+6+9+11', 183: '4+7', 184: '4+7+10', 185: '4+7+11', 186: '4+7+9', 187: '4+7+9+0', 188: '4+7+9+11', 189: '4+8', 190: '4+8+10', 191: '4+8+11', 192: '4+8+9', 193: '4+8+9+11', 194: '4+9', 195: '4+9+10', 196: '5', 197: '5+10', 198: '5+11', 199: '5+6', 200: '5+6+10+0', 201: '5+6+8', 202: '5+7', 203: '5+7+0', 204: '5+7+10', 205: '5+7+8+0', 206: '5+7+9+0', 207: '5+7+9+11', 208: '5+8', 209: '5+8+0', 210: '5+8+10', 211: '5+8+11', 212: '5+9', 213: '5+9+0', 214: '5+9+11', 215: '5+9+11+0', 216: '6', 217: '6+10', 218: '6+10+0', 219: '6+10+1', 220: '6+10+11', 221: '6+10+11+1', 222: '6+11', 223: '6+11+0', 224: '6+7', 225: '6+7+0', 226: '6+7+11', 227: '6+7+11+2', 228: '6+7+9+11', 229: '6+8', 230: '6+8+0', 231: '6+8+1', 232: '6+8+10', 233: '6+8+10+0+3', 234: '6+8+10+1', 235: '6+8+11', 236: '6+8+11+2', 237: '6+9', 238: '6+9+0', 239: '6+9+0+2', 240: '6+9+1', 241: '6+9+11', 242: '6+9+11+1', 243: '6+9+11+2', 244: '7', 245: '7+0', 246: '7+10', 247: '7+10+0', 248: '7+10+0+3', 249: '7+10+1', 250: '7+10+1+3', 251: '7+10+2', 252: '7+11', 253: '7+11+0', 254: '7+11+2', 255: '7+8', 256: '7+8+0', 257: '7+8+0+3', 258: '7+8+10+2', 259: '7+8+11', 260: '7+9', 261: '7+9+0', 262: '7+9+1', 263: '7+9+11', 264: '7+9+11+0', 265: '7+9+11+1', 266: '7+9+11+2', 267: '7+9+2', 268: '8', 269: '8+0', 270: '8+0+1', 271: '8+0+2', 272: '8+0+3', 273: '8+1', 274: '8+10', 275: '8+10+0', 276: '8+10+1', 277: '8+10+1+3', 278: '8+10+1+4', 279: '8+10+11', 280: '8+10+11+1', 281: '8+10+11+1+4', 282: '8+10+11+3', 283: '8+10+2', 284: '8+10+3', 285: '8+11', 286: '8+11+1', 287: '8+11+1+3+4', 288: '8+11+1+4', 289: '8+11+2', 290: '8+11+3', 291: '8+9', 292: '8+9+1', 293: '8+9+1+3', 294: '8+9+1+4', 295: '8+9+11+1+3', 296: '8+9+2', 297: '9', 298: '9+0', 299: '9+0+2', 300: '9+0+2+4', 301: '9+0+2+5', 302: '9+0+3', 303: '9+0+3+5', 304: '9+0+4', 305: '9+1', 306: '9+1+2', 307: '9+1+4', 308: '9+10', 309: '9+10+2', 310: '9+10+2+4', 311: '9+10+3', 312: '9+11', 313: '9+11+0+2', 314: '9+11+0+4', 315: '9+11+1', 316: '9+11+1+2', 317: '9+11+2', 318: '9+11+2+4', 319: '9+11+2+5', 320: '9+11+3', 321: '9+11+4', 322: '9+2', 323: '9+2+3', 324: 'A1', 325: 'A2', 326: 'A3', 327: 'A4', 328: 'A5', 329: 'A6', 330: 'B-1', 331: 'B-2', 332: 'B-3', 333: 'B-4', 334: 'B-5', 335: 'B-6', 336: 'B1', 337: 'B2', 338: 'B3', 339: 'B4', 340: 'B5', 341: 'B6', 342: 'C#1', 343: 'C#2', 344: 'C#3', 345: 'C#4', 346: 'C#5', 347: 'C#6', 348: 'C#7', 349: 'C2', 350: 'C3', 351: 'C4', 352: 'C5', 353: 'C6', 354: 'C7', 355: 'D1', 356: 'D2', 357: 'D3', 358: 'D4', 359: 'D5', 360: 'D6', 361: 'D7', 362: 'E-1', 363: 'E-2', 364: 'E-3', 365: 'E-4', 366: 'E-5', 367: 'E-6', 368: 'E1', 369: 'E2', 370: 'E3', 371: 'E4', 372: 'E5', 373: 'E6', 374: 'F#1', 375: 'F#2', 376: 'F#3', 377: 'F#4', 378: 'F#5', 379: 'F#6', 380: 'F1', 381: 'F2', 382: 'F3', 383: 'F4', 384: 'F5', 385: 'F6', 386: 'G#1', 387: 'G#2', 388: 'G#3', 389: 'G#4', 390: 'G#5', 391: 'G#6', 392: 'G1', 393: 'G2', 394: 'G3', 395: 'G4', 396: 'G5', 397: 'G6'}\n"
     ]
    }
   ],
   "source": [
    "intNoteMap = dict((num,ele) for num,ele in enumerate(uniqueNotes))\n",
    "# This will have  (integer --> element) mapping.\n",
    "\n",
    "# uniqueNotes --> has all unique-elements\n",
    "# noteMap --> has  (element --> integer) mapping.\n",
    "# countNodes --> count of unique-elements.\n",
    "print(intNoteMap)"
   ]
  },
  {
   "attachments": {},
   "cell_type": "markdown",
   "metadata": {},
   "source": [
    "### Generate Input-music in playable format :-"
   ]
  },
  {
   "cell_type": "code",
   "execution_count": 64,
   "metadata": {},
   "outputs": [],
   "source": [
    "# Taking the initial input-index pattern\n",
    "pattern = networkInput[startIdx]\n",
    "predictionOutput = []"
   ]
  },
  {
   "cell_type": "code",
   "execution_count": 65,
   "metadata": {},
   "outputs": [],
   "source": [
    "inputMusicElements = []\n",
    "inputMusic = []\n",
    "# inputMusic = (uniqueNotes[ele] for ele in pattern)\n",
    "inputMusic = (intNoteMap[ele] for ele in pattern)"
   ]
  },
  {
   "cell_type": "code",
   "execution_count": 66,
   "metadata": {},
   "outputs": [],
   "source": [
    "offset = 0\n",
    "# offset --> instance-time of particular element (note/chord)\n",
    "\n",
    "\n",
    "# Have to iterate over all elements of predictionOutput\n",
    "#   --> Checking whether is a note or chord ?\n",
    "\n",
    "for element in inputMusic:\n",
    "    # If element is a chord :-\n",
    "    if('+' in element) or element.isdigit():\n",
    "        # Possibilites are like '1+3' or '0'.\n",
    "        notesInChord = element.split('+')\n",
    "        # This will get all notes in chord\n",
    "        tempNotes = []\n",
    "        for currNote in notesInChord:\n",
    "            # Creating note-object for each note in chord\n",
    "            newNote = note.Note(int(currNote))\n",
    "            # Set it's instrument\n",
    "            newNote.storedInstrument = instrument.Piano()\n",
    "            tempNotes.append(newNote)\n",
    "        # This chord can have x-notes\n",
    "        # Create a chord-object from list of notes\n",
    "        newChord = chord.Chord(tempNotes)\n",
    "        # Adding offset to chord\n",
    "        newChord.offset = offset\n",
    "        # Add this chord to music-elements\n",
    "        inputMusicElements.append(newChord)\n",
    "\n",
    "    # If element is a note :-\n",
    "    else:\n",
    "        # We know that this is a note\n",
    "        newNote = note.Note(element)\n",
    "        # Set off-set of note\n",
    "        newNote.offset = offset\n",
    "        # Set the instrument of note\n",
    "        newNote.storedInstrument = instrument.Piano()\n",
    "        # Add this note to music-elements\n",
    "        inputMusicElements.append(newNote)\n",
    "    offset += 0.5\n",
    "    # Fixing the time-duration of all elements"
   ]
  },
  {
   "cell_type": "code",
   "execution_count": 67,
   "metadata": {},
   "outputs": [
    {
     "data": {
      "text/plain": [
       "'testInput5.mid'"
      ]
     },
     "execution_count": 67,
     "metadata": {},
     "output_type": "execute_result"
    }
   ],
   "source": [
    "# For playing them, have to create a stream-object\n",
    "#    ..from the generated music-elements\n",
    "\n",
    "midiInputStream = stream.Stream(inputMusicElements)\n",
    "\n",
    "# Write this midiStream on a midi-file.\n",
    "midiInputStream.write('midi', fp=\"testInput5.mid\")\n",
    "# 1st arg  -->  File-type\n",
    "# 2nd arg  -->  File-name"
   ]
  },
  {
   "cell_type": "code",
   "execution_count": 68,
   "metadata": {},
   "outputs": [
    {
     "data": {
      "text/html": [
       "\n",
       "                <div id=\"midiPlayerDiv406688\"></div>\n",
       "                <link rel=\"stylesheet\" href=\"//cuthbertLab.github.io/music21j/css/m21.css\"\n",
       "                    type=\"text/css\" />\n",
       "                \n",
       "                <script>\n",
       "                require.config({\n",
       "                    paths: {'music21': '//cuthbertLab.github.io/music21j/src/music21'}\n",
       "                });\n",
       "                require(['music21'], function() {\n",
       "                               mp = new music21.miditools.MidiPlayer();\n",
       "                               mp.addPlayer(\"#midiPlayerDiv406688\");\n",
       "                               mp.base64Load(\"data:audio/midi;base64,TVRoZAAAAAYAAQACBABNVHJrAAAAFAD/UQMHoSAA/1gEBAIYCIgA/y8ATVRyawAABGsA/wMAAOAAQIgAkD5ahACQPFqEAIA+AACQR1qEAIA8AACQRVqEAIBHAACQR1oAkD5aAJBAWgCQQ1qEAIBFAACQQFqEAIBHAACAPgAAgEAAAIBDAACQR1oAkD5aAJBAWgCQQ1qEAIBAAACQR1oAkD5aAJBAWgCQQ1qEAIBHAACAPgAAgEAAAIBDAACQQFoAkENaAJBFWgCQPFqEAIBHAACAPgAAgEAAAIBDAACQPlqEAIBAAACAQwAAgEUAAIA8AACQPFqEAIA+AACQR1qEAIA8AACQRVqEAIBHAACQPlqEAIBFAACQQFoAkEFaAJBFWgCQPFqEAIA+AACQPFqEAIBAAACAQQAAgEUAAIA8AACQQFoAkEFaAJBFWgCQPFqEAIA8AACQQFoAkEFaAJBFWgCQPFqEAIBAAACAQQAAgEUAAIA8AACQR1oAkD5aAJBAWgCQQ1qEAIBAAACAQQAAgEUAAIA8AACQPFqEAIBHAACAPgAAgEAAAIBDAACQPlqEAIA8AACQPFqEAIA+AACQR1qEAIA8AACQQ1qEAIBHAACQRVoAkEdaAJA8WgCQQFqEAIBDAACQUVqEAIBFAACARwAAgDwAAIBAAACQTFqEAIBRAACQSFqEAIBMAACQRVqEAIBIAACQUVqEAIBFAACQTFqEAIBRAACQSFqEAIBMAACQRVqEAIBIAACQVFqEAIBFAACQUVqEAIBUAACQTFqEAIBRAACQSFqEAIBMAACQVFqEAIBIAACQUVqEAIBUAACQTFqEAIBRAACQSFqEAIBMAACQWFqEAIBIAACQVFqEAIBYAACQUVqEAIBUAACQTFqEAIBRAACQWFqEAIBMAACQVFqEAIBYAACQUVqEAIBUAACQTFqEAIBRAACQW1qEAIBMAACQWFqEAIBbAACQVFqEAIBYAACQT1qEAIBUAACQW1qEAIBPAACQWFqEAIBbAACQVFqEAIBYAACQT1qEAIBUAACQWlqEAIBPAACQVFqEAIBaAACQUVqEAIBUAACQTlqEAIBRAACQWlqEAIBOAACQVFqEAIBaAACQUVqEAIBUAACQTlqEAIBRAACQWlqEAIBOAACQVFqEAIBaAACQUVqEAIBUAACQTlqEAIBRAACQWlqEAIBOAACQVFqEAIBaAACQUVqEAIBUAACQTlqEAIBRAACQVlqEAIBOAACQUVqEAIBWAACQTlqEAIBRAACQSlqEAIBOAACQVlqEAIBKAACQUVqEAIBWAACQTlqEAIBRAACQSlqEAIBOAACQVlqEAIBKAACQUVqEAIBWAACQTlqEAIBRAACQSlqEAIBOAACQVlqEAIBKAACQUVqEAIBWAACQTlqEAIBRAACQSlqEAIBOAACQWVqEAIBKAACQVFqEAIBZAACQUVqEAIBUAACQTVqEAIBRAACQWVqEAIBNAACQVFqEAIBZAACQUVqEAIBUAACQTVqEAIBRAACQW1qEAIBNAACQVFqEAIBbAACQUVqEAIBUAIQAgFEAiAD/LwA=\");\n",
       "                        });\n",
       "                </script>"
      ],
      "text/plain": [
       "<IPython.core.display.HTML object>"
      ]
     },
     "metadata": {},
     "output_type": "display_data"
    }
   ],
   "source": [
    "midiInputStream.show('midi')"
   ]
  },
  {
   "cell_type": "code",
   "execution_count": null,
   "metadata": {},
   "outputs": [],
   "source": []
  },
  {
   "attachments": {},
   "cell_type": "markdown",
   "metadata": {},
   "source": [
    "### Making Prediction :-"
   ]
  },
  {
   "cell_type": "code",
   "execution_count": null,
   "metadata": {},
   "outputs": [],
   "source": [
    "# Trying to generate (numIteration)-elements of music\n",
    "numIteration = 1\n",
    "# Try with different count variations, so named a variable\n",
    "\n",
    "for noteIdx in range(numIteration):\n",
    "    predictionInput = np.reshape(pattern, (1,len(pattern), 1))\n",
    "    # reshaping into (1, 100, 1)\n",
    "    # 1st argument --> count of data-points (batch-size)\n",
    "    # As we have, 1-data of 100-length (2nd argument)\n",
    "    # 3rd argument --> Because LSTM supports data in 3-dimension.\n",
    "\n",
    "    # Also to predict over it, normalization is required (values between [0,1])\n",
    "    predictionInput = predictionInput / float(countNodes)\n",
    "\n",
    "    # Making prediction\n",
    "    prediction = model.predict(predictionInput, verbose=0)"
   ]
  },
  {
   "cell_type": "code",
   "execution_count": 76,
   "metadata": {},
   "outputs": [
    {
     "name": "stdout",
     "output_type": "stream",
     "text": [
      "Some elements of prediction[0] are :-\n",
      "8.852357e-09\n",
      "6.4902597e-13\n",
      "5.3691323e-13\n",
      "8.518334e-15\n",
      "1.5045504e-08\n",
      "7.0550076e-13\n",
      "2.5262173e-11\n",
      "3.7756975e-13\n",
      "7.7455734e-13\n",
      "1.3269509e-08\n",
      "4.217455e-10\n",
      "1.0558226e-12\n",
      "1.6692346e-14\n",
      "5.0272537e-14\n",
      "1.0975207e-14\n",
      "7.41055e-14\n"
     ]
    }
   ],
   "source": [
    "print(\"Some elements of prediction[0] are :-\")\n",
    "count = 0\n",
    "# print(prediction[0][0])\n",
    "for ele in prediction[0]:\n",
    "    print(ele)\n",
    "    count += 1\n",
    "    if count > 15:\n",
    "        break"
   ]
  },
  {
   "attachments": {},
   "cell_type": "markdown",
   "metadata": {},
   "source": [
    "### Analyzing Prediction :-"
   ]
  },
  {
   "cell_type": "code",
   "execution_count": 77,
   "metadata": {},
   "outputs": [
    {
     "name": "stdout",
     "output_type": "stream",
     "text": [
      "Measures of Dispersion of data :- \n",
      "\n",
      "Minimum value =  4.5031164e-15\n",
      "Maximum value =  0.99995935\n",
      "Range of values =  0.99995935\n",
      "Variance =  0.0027775299\n",
      "Standard Deviation =  0.052702274\n",
      "Length of 1st Prediction-element =  359\n",
      "Count of unique elements =  398\n"
     ]
    }
   ],
   "source": [
    "# Let's see, what our model has predicted\n",
    "print(\"Measures of Dispersion of data :- \\n\")\n",
    "print(\"Minimum value = \", np.amin(prediction))\n",
    "print(\"Maximum value = \", np.amax(prediction))\n",
    "print(\"Range of values = \", np.ptp(prediction))\n",
    "print(\"Variance = \", np.var(prediction))\n",
    "print(\"Standard Deviation = \", np.std(prediction))\n",
    "print(\"Length of 1st Prediction-element = \", len(prediction[0]))\n",
    "print(\"Count of unique elements = \", countNodes)"
   ]
  },
  {
   "cell_type": "code",
   "execution_count": 78,
   "metadata": {},
   "outputs": [],
   "source": [
    "# The values are in range [0,1].\n",
    "# And, no. of values in 1st prediction are equal to the no. of unique elements we have.\n",
    "# So --> it is clear that this has give the probabilities of all unique-elements.\n",
    "\n",
    "# So, taking the element with max. probability"
   ]
  },
  {
   "attachments": {},
   "cell_type": "markdown",
   "metadata": {},
   "source": [
    "### Again making prediction, with further processing"
   ]
  },
  {
   "cell_type": "code",
   "execution_count": 79,
   "metadata": {},
   "outputs": [],
   "source": [
    "# Trying to generate (numIteration)-elements of music\n",
    "numIteration = 200\n",
    "# This time trying a larger no. of iterations.\n",
    "\n",
    "for noteIdx in range(numIteration):\n",
    "    predictionInput = np.reshape(pattern, (1,len(pattern), 1))\n",
    "\n",
    "    predictionInput = predictionInput / float(countNodes)\n",
    "\n",
    "    # Making prediction\n",
    "    prediction = model.predict(predictionInput, verbose=0)\n",
    "\n",
    "    # Taking the element with max. probability\n",
    "    idx = np.argmax(prediction)\n",
    "    # No. corresponding to max. probability element\n",
    "\n",
    "    # The element corresponding to no. (idx) is :\n",
    "    result = intNoteMap[idx]\n",
    "\n",
    "    # Appeding this element to prediction-array\n",
    "    predictionOutput.append(result)\n",
    "\n",
    "    # Change input-sequence for further predictions\n",
    "    # Add this into input, & discard the oldes one.\n",
    "    pattern.append(idx)\n",
    "    # slicing out the oldest element (0th index)\n",
    "    pattern = pattern[1:]\n",
    "    # Size of pattern remained constant at 100.\n",
    "    #     (as added 1 element, & removed 1)"
   ]
  },
  {
   "cell_type": "code",
   "execution_count": 80,
   "metadata": {},
   "outputs": [
    {
     "name": "stdout",
     "output_type": "stream",
     "text": [
      "379\n",
      "['D3', 'C#5', 'B-4', '8+11+1+3+4', 'C#4', 'B-4', '8+11+1+3+4', 'B-4', '9+11+0+2', '8+11+1', 'B-4', '9+11+0+2', '8+11+1', 'B-4', '9+11+0+2', 'B-4', '9+11+0+2', '8+11+1+3+4', 'B-4', '9+11+0+2', '9+11+4', '9+11+0+4', 'B-4', '9+11+2+5', '9+11+0+4', 'C3', '9+11+0+2', '9+0', '9+1+2', '9+0', '8+9+1', '9+0', 'C3', '9+11+0+2', '8+11+1', '10+11+1', '9', '8+10+11+1', '2+4+6+7', 'B-4', 'D2', '8+10+3', '9+0+2', '8+10+3', '8+10+3', '9+11', '8+10+3', '8+10+3', '9+0', '8+10+3', '7+9+11+2', '8+10+2', '8+10+11+1', '8+10+2', '6+11+0', '8+10+3', '5+9+0', '7+8+11', '2+4+6+9+11', '8+10+3', '6+11+0', '8+11', '6+10+11+1', '8+10+2', '9+11+2+5', '7+8+11', '7+9+11+2', '9+11', '8+10+3', 'B-2', '7+9+11+2', '8+10+3', 'B-1', '7+9+11+2', '8+10+3', '7+9+11+2', '8+10+3', '7+9+11+2', '8+11+1', '8+10+3', '8+11+1', '7+9+11+2', '8+10+3', '7+9', '8+10+3', '6+11+0', '8+10+3', '6+11+0', '8+10+3', '6+11+0', '8+10+3', '6+11+0', '8+10+3', '8', '8+10+3', '7+9+11+2', '8+10+3', '7+9+11+2', '8+10+3', '9+0+2', '8+10+3', '8+11+1', '4+5+7+9', '8+10+3', '8+11+1', '7+8+11', 'D2', 'C7', 'B-1', '8+10+3', 'B-3', 'C#2', 'C#7', '8+10+3', '9+10+3', '9+0+2', '7+9+11+2', '8+10+3', '8+10+3', '8+10+3', '8+10+3', '8+10+3', '9+0+2', '8+10+3', '8+10+3', '4+5+7+9', '8+10+3', '8+11+1', '8+10+3', '9+0', '8+10+3', '9+11+3', '8+10+11+1', '8+10+3', '5+7+9+11', '2+4+6+9+11', '8+10+3', '8+10+3', '5+9+0', '3+4+8+11', 'D2', 'C7', '5+9+0', '9+11+2+4', '9+0+2', '7+9+11+2', '8+10+3', '8+10+3', '7+9+11+2', '7+9+11+2', '9+11+2+5', '7+9+11+2', '8+10+3', '9+11+2+5', '7+9+11+2', '8+10+11+1', 'B-1', 'B-1', '9+11+3', '4+5+9+11', '8+10+11+1', '2+4+6+9+11', '5+9+0', '2+4+6+9+11', '5+9+0', '2+4+6+9+11', '5+9+0', '2+4+6+9+11', '5+9+0', '2+4+6+9+11', '5+9+0', '2+4+6+9+11', '5+9+0', '2+4+6+9+11', '5+9+0', '11+4', '5+9+0', '11+4', '5+9+0', '1+4', '5+9+0', '1+4', '1+4', '5+9+0', '0+3+6+8', '0+3+6+8', '5+9+0', '0+3+6+8', '2+4+6+9+11', '6+8+11', '11+0+4', '5+9+0', '2+4+6+9+11', '5+9+0', '2+4+6+9+11', '5+9+0', '2+4+6+9+11', '5+9+0', '2+4+6+9+11', '5+9+0', '2+4+6+9+11', '5+9+0', '11+4', '5+9+0', '11+4', '5+9+0', '11+4', '5+9+0', '1+4', '5+9+0', '1+4', '1+4', '5+9+0', '0+3+6+8', '0+3+6+8', '5+9+0', '0+3+6+8', '2+3+7', '6+8+11', '11+0+4', '2+3+7', '2+3+7', '11+0+4', '4+5+9+0', '11+1+4+5', '2+3+7', '2+3+7', '2+3+7', '11+0+4', '2+3+7', '10+11+1+3', '2', '2+3+7', '2+3+7', '2', '6+8+11', '10+11+1+3', '2+3+7', '2+3+7', '2+3+7', '2', '2+3+7', '6+8+11', '11+0+4', '2+3+7', '2+3+7', '11+0+4', '4+5+9+0', '11+1+4+5', '2+3+7', '2+3+7', '2+3+7', '11+0+4', '2+3+7', '10+11+1+3', '2', '2+3+7', '2+3+7', '2', '6+8+11', '10+11+1+3', '2+3+7', '2+3+7', '2+3+7', '2', '2+3+7', '6+8+11', '11+0+4', '2+3+7', '2+3+7', '11+0+4', '4+5+9+0', '11+1+4+5', '2+3+7', '2+3+7', '2+3+7', '11+0+4', '2+3+7', '10+11+1+3', '2', '2+3+7', '2+3+7', '2', '6+8+11', '10+11+1+3', '2+3+7', '2+3+7', '2+3+7', '2', '4+9+10', '6+8+11', '4+9+10', '6+8+11', '4+9+10', '6+8+11', '4+9+10', '6+8+11', '4+9+10', '6+8+11', '4+9+10', '6+8+11', '4+9+10', '6+8+11', '6+8+11', '6+8+11', '9+0+2+4', '0+6', '2+4+8', '0+3+6+9', '0+6', '10+11+1+3', '11+1+4+5', '2+4+6+9+11', '11+1+4+5', '6+8+11', '6+8+11', '1+3+6', '0+3+6+9', '9+11+0+2', '1+3+6', 'C#5', '9+1+2', '0+4+6', '8+9+1', '0+6', '8+10+11+1', '0+6', '3+4+8+11', '2+4+8', '2+4+6+7', '2+4+6+7', '7+10+0+3', '4+7+9+11', 'C4', '1+5+8', '10+11+1', '8+11+1+3+4', '1+4+8', '4+5+7+9', 'C#7', '1+4+8', '7+10+0+3', 'B-5', '8+10+11+1', '1+4+8', 'C#4', 'D2', '3+4+6', 'A1', '2+3+7+9', 'A3', '7+10+0+3', '7+10+0+3', 'B-3', '6+8+11+2', '8+10+11+1', '0+4+6', 'C4', '7+8+11', '5+9+0', '8+11+1+3+4', '4+5+9+11', '9+1', '8+10+11+1', '7+9+11+2', '9+11', '9+11+0+4', '9+11+0+2', 'C#4', '8+11', '8+11', '10+11+1+3', '8+10+11+1', '0+3+6+9', '11', '11+1+4+5', '0', '10+11+1+3', '0']\n"
     ]
    }
   ],
   "source": [
    "print(len(predictionOutput))\n",
    "print(predictionOutput)"
   ]
  },
  {
   "cell_type": "code",
   "execution_count": 81,
   "metadata": {},
   "outputs": [],
   "source": [
    "# I have trained for only 10 epochs, if more training is done, variety in notes-chords (music-elements) will be seen."
   ]
  },
  {
   "attachments": {},
   "cell_type": "markdown",
   "metadata": {},
   "source": [
    "## Generate Music out of Predicted-data :"
   ]
  },
  {
   "attachments": {},
   "cell_type": "markdown",
   "metadata": {},
   "source": [
    "### What required is to get a Midi File :-"
   ]
  },
  {
   "cell_type": "code",
   "execution_count": 82,
   "metadata": {},
   "outputs": [],
   "source": [
    "outputMusicElements = []\n",
    "# Array to store notes & chords."
   ]
  },
  {
   "attachments": {},
   "cell_type": "markdown",
   "metadata": {},
   "source": [
    "#### Trying to Create a Note (from string) :-"
   ]
  },
  {
   "cell_type": "code",
   "execution_count": 83,
   "metadata": {},
   "outputs": [
    {
     "data": {
      "text/plain": [
       "<music21.note.Note C>"
      ]
     },
     "execution_count": 83,
     "metadata": {},
     "output_type": "execute_result"
    }
   ],
   "source": [
    "tempStr = 'C4'\n",
    "# Just copying from the predictionOutput display\n",
    "\n",
    "# Creating a note-object (using note-package)\n",
    "note.Note(tempStr)"
   ]
  },
  {
   "cell_type": "code",
   "execution_count": 84,
   "metadata": {},
   "outputs": [],
   "source": [
    "# Music-note is generated.\n",
    "# Similarly we can do for multiple elements.\n",
    "newNote = note.Note(tempStr)\n",
    "\n",
    "# Also, the note will have a off-set (timing)\n",
    "# By default, offset was 0. (setting it manually here)\n",
    "newNote.offset = 0\n",
    "# And, the note will have an instrument\n",
    "#    Can set, using storedInstrument package\n",
    "newNote.storedInstrument = instrument.Piano()\n",
    "# outputMusicElements.append(newNote)\n",
    "# Above element is commented out, as it will get unwanted music like this random created note."
   ]
  },
  {
   "cell_type": "code",
   "execution_count": 85,
   "metadata": {},
   "outputs": [
    {
     "name": "stdout",
     "output_type": "stream",
     "text": [
      "<music21.note.Note C>\n"
     ]
    }
   ],
   "source": [
    "print(newNote)"
   ]
  },
  {
   "attachments": {},
   "cell_type": "markdown",
   "metadata": {},
   "source": [
    "#### Creating Music-Elements from String-array :-"
   ]
  },
  {
   "cell_type": "code",
   "execution_count": 86,
   "metadata": {},
   "outputs": [],
   "source": [
    "offset = 0\n",
    "# offset --> instance-time of particular element (note/chord)\n",
    "\n",
    "\n",
    "# Have to iterate over all elements of predictionOutput\n",
    "#   --> Checking whether is a note or chord ?\n",
    "\n",
    "for element in predictionOutput:\n",
    "    # If element is a chord :-\n",
    "    if('+' in element) or element.isdigit():\n",
    "        # Possibilites are like '1+3' or '0'.\n",
    "        notesInChord = element.split('+')\n",
    "        # This will get all notes in chord\n",
    "        tempNotes = []\n",
    "        for currNote in notesInChord:\n",
    "            # Creating note-object for each note in chord\n",
    "            newNote = note.Note(int(currNote))\n",
    "            # Set it's instrument\n",
    "            newNote.storedInstrument = instrument.Piano()\n",
    "            tempNotes.append(newNote)\n",
    "        # This chord can have x-notes\n",
    "        # Create a chord-object from list of notes\n",
    "        newChord = chord.Chord(tempNotes)\n",
    "        # Adding offset to chord\n",
    "        newChord.offset = offset\n",
    "        # Add this chord to music-elements\n",
    "        outputMusicElements.append(newChord)\n",
    "\n",
    "    # If element is a note :-\n",
    "    else:\n",
    "        # We know that this is a note\n",
    "        newNote = note.Note(element)\n",
    "        # Set off-set of note\n",
    "        newNote.offset = offset\n",
    "        # Set the instrument of note\n",
    "        newNote.storedInstrument = instrument.Piano()\n",
    "        # Add this note to music-elements\n",
    "        outputMusicElements.append(newNote)\n",
    "    offset += 0.5\n",
    "    # Fixing the time-duration of all elements"
   ]
  },
  {
   "cell_type": "code",
   "execution_count": 87,
   "metadata": {},
   "outputs": [
    {
     "name": "stdout",
     "output_type": "stream",
     "text": [
      "379\n",
      "[<music21.note.Note D>, <music21.note.Note C#>, <music21.note.Note B->, <music21.chord.Chord G# B C# E- E>, <music21.note.Note C#>, <music21.note.Note B->, <music21.chord.Chord G# B C# E- E>, <music21.note.Note B->, <music21.chord.Chord A B C D>, <music21.chord.Chord G# B C#>, <music21.note.Note B->, <music21.chord.Chord A B C D>, <music21.chord.Chord G# B C#>, <music21.note.Note B->, <music21.chord.Chord A B C D>, <music21.note.Note B->, <music21.chord.Chord A B C D>, <music21.chord.Chord G# B C# E- E>, <music21.note.Note B->, <music21.chord.Chord A B C D>, <music21.chord.Chord A B E>, <music21.chord.Chord A B C E>, <music21.note.Note B->, <music21.chord.Chord A B D F>, <music21.chord.Chord A B C E>, <music21.note.Note C>, <music21.chord.Chord A B C D>, <music21.chord.Chord A C>, <music21.chord.Chord A C# D>, <music21.chord.Chord A C>, <music21.chord.Chord G# A C#>, <music21.chord.Chord A C>, <music21.note.Note C>, <music21.chord.Chord A B C D>, <music21.chord.Chord G# B C#>, <music21.chord.Chord B- B C#>, <music21.chord.Chord A>, <music21.chord.Chord G# B- B C#>, <music21.chord.Chord D E F# G>, <music21.note.Note B->, <music21.note.Note D>, <music21.chord.Chord G# B- E->, <music21.chord.Chord A C D>, <music21.chord.Chord G# B- E->, <music21.chord.Chord G# B- E->, <music21.chord.Chord A B>, <music21.chord.Chord G# B- E->, <music21.chord.Chord G# B- E->, <music21.chord.Chord A C>, <music21.chord.Chord G# B- E->, <music21.chord.Chord G A B D>, <music21.chord.Chord G# B- D>, <music21.chord.Chord G# B- B C#>, <music21.chord.Chord G# B- D>, <music21.chord.Chord F# B C>, <music21.chord.Chord G# B- E->, <music21.chord.Chord F A C>, <music21.chord.Chord G G# B>, <music21.chord.Chord D E F# A B>, <music21.chord.Chord G# B- E->, <music21.chord.Chord F# B C>, <music21.chord.Chord G# B>, <music21.chord.Chord F# B- B C#>, <music21.chord.Chord G# B- D>, <music21.chord.Chord A B D F>, <music21.chord.Chord G G# B>, <music21.chord.Chord G A B D>, <music21.chord.Chord A B>, <music21.chord.Chord G# B- E->, <music21.note.Note B->, <music21.chord.Chord G A B D>, <music21.chord.Chord G# B- E->, <music21.note.Note B->, <music21.chord.Chord G A B D>, <music21.chord.Chord G# B- E->, <music21.chord.Chord G A B D>, <music21.chord.Chord G# B- E->, <music21.chord.Chord G A B D>, <music21.chord.Chord G# B C#>, <music21.chord.Chord G# B- E->, <music21.chord.Chord G# B C#>, <music21.chord.Chord G A B D>, <music21.chord.Chord G# B- E->, <music21.chord.Chord G A>, <music21.chord.Chord G# B- E->, <music21.chord.Chord F# B C>, <music21.chord.Chord G# B- E->, <music21.chord.Chord F# B C>, <music21.chord.Chord G# B- E->, <music21.chord.Chord F# B C>, <music21.chord.Chord G# B- E->, <music21.chord.Chord F# B C>, <music21.chord.Chord G# B- E->, <music21.chord.Chord G#>, <music21.chord.Chord G# B- E->, <music21.chord.Chord G A B D>, <music21.chord.Chord G# B- E->, <music21.chord.Chord G A B D>, <music21.chord.Chord G# B- E->, <music21.chord.Chord A C D>, <music21.chord.Chord G# B- E->, <music21.chord.Chord G# B C#>, <music21.chord.Chord E F G A>, <music21.chord.Chord G# B- E->, <music21.chord.Chord G# B C#>, <music21.chord.Chord G G# B>, <music21.note.Note D>, <music21.note.Note C>, <music21.note.Note B->, <music21.chord.Chord G# B- E->, <music21.note.Note B->, <music21.note.Note C#>, <music21.note.Note C#>, <music21.chord.Chord G# B- E->, <music21.chord.Chord A B- E->, <music21.chord.Chord A C D>, <music21.chord.Chord G A B D>, <music21.chord.Chord G# B- E->, <music21.chord.Chord G# B- E->, <music21.chord.Chord G# B- E->, <music21.chord.Chord G# B- E->, <music21.chord.Chord G# B- E->, <music21.chord.Chord A C D>, <music21.chord.Chord G# B- E->, <music21.chord.Chord G# B- E->, <music21.chord.Chord E F G A>, <music21.chord.Chord G# B- E->, <music21.chord.Chord G# B C#>, <music21.chord.Chord G# B- E->, <music21.chord.Chord A C>, <music21.chord.Chord G# B- E->, <music21.chord.Chord A B E->, <music21.chord.Chord G# B- B C#>, <music21.chord.Chord G# B- E->, <music21.chord.Chord F G A B>, <music21.chord.Chord D E F# A B>, <music21.chord.Chord G# B- E->, <music21.chord.Chord G# B- E->, <music21.chord.Chord F A C>, <music21.chord.Chord E- E G# B>, <music21.note.Note D>, <music21.note.Note C>, <music21.chord.Chord F A C>, <music21.chord.Chord A B D E>, <music21.chord.Chord A C D>, <music21.chord.Chord G A B D>, <music21.chord.Chord G# B- E->, <music21.chord.Chord G# B- E->, <music21.chord.Chord G A B D>, <music21.chord.Chord G A B D>, <music21.chord.Chord A B D F>, <music21.chord.Chord G A B D>, <music21.chord.Chord G# B- E->, <music21.chord.Chord A B D F>, <music21.chord.Chord G A B D>, <music21.chord.Chord G# B- B C#>, <music21.note.Note B->, <music21.note.Note B->, <music21.chord.Chord A B E->, <music21.chord.Chord E F A B>, <music21.chord.Chord G# B- B C#>, <music21.chord.Chord D E F# A B>, <music21.chord.Chord F A C>, <music21.chord.Chord D E F# A B>, <music21.chord.Chord F A C>, <music21.chord.Chord D E F# A B>, <music21.chord.Chord F A C>, <music21.chord.Chord D E F# A B>, <music21.chord.Chord F A C>, <music21.chord.Chord D E F# A B>, <music21.chord.Chord F A C>, <music21.chord.Chord D E F# A B>, <music21.chord.Chord F A C>, <music21.chord.Chord D E F# A B>, <music21.chord.Chord F A C>, <music21.chord.Chord B E>, <music21.chord.Chord F A C>, <music21.chord.Chord B E>, <music21.chord.Chord F A C>, <music21.chord.Chord C# E>, <music21.chord.Chord F A C>, <music21.chord.Chord C# E>, <music21.chord.Chord C# E>, <music21.chord.Chord F A C>, <music21.chord.Chord C E- F# G#>, <music21.chord.Chord C E- F# G#>, <music21.chord.Chord F A C>, <music21.chord.Chord C E- F# G#>, <music21.chord.Chord D E F# A B>, <music21.chord.Chord F# G# B>, <music21.chord.Chord B C E>, <music21.chord.Chord F A C>, <music21.chord.Chord D E F# A B>, <music21.chord.Chord F A C>, <music21.chord.Chord D E F# A B>, <music21.chord.Chord F A C>, <music21.chord.Chord D E F# A B>, <music21.chord.Chord F A C>, <music21.chord.Chord D E F# A B>, <music21.chord.Chord F A C>, <music21.chord.Chord D E F# A B>, <music21.chord.Chord F A C>, <music21.chord.Chord B E>, <music21.chord.Chord F A C>, <music21.chord.Chord B E>, <music21.chord.Chord F A C>, <music21.chord.Chord B E>, <music21.chord.Chord F A C>, <music21.chord.Chord C# E>, <music21.chord.Chord F A C>, <music21.chord.Chord C# E>, <music21.chord.Chord C# E>, <music21.chord.Chord F A C>, <music21.chord.Chord C E- F# G#>, <music21.chord.Chord C E- F# G#>, <music21.chord.Chord F A C>, <music21.chord.Chord C E- F# G#>, <music21.chord.Chord D E- G>, <music21.chord.Chord F# G# B>, <music21.chord.Chord B C E>, <music21.chord.Chord D E- G>, <music21.chord.Chord D E- G>, <music21.chord.Chord B C E>, <music21.chord.Chord E F A C>, <music21.chord.Chord B C# E F>, <music21.chord.Chord D E- G>, <music21.chord.Chord D E- G>, <music21.chord.Chord D E- G>, <music21.chord.Chord B C E>, <music21.chord.Chord D E- G>, <music21.chord.Chord B- B C# E->, <music21.chord.Chord D>, <music21.chord.Chord D E- G>, <music21.chord.Chord D E- G>, <music21.chord.Chord D>, <music21.chord.Chord F# G# B>, <music21.chord.Chord B- B C# E->, <music21.chord.Chord D E- G>, <music21.chord.Chord D E- G>, <music21.chord.Chord D E- G>, <music21.chord.Chord D>, <music21.chord.Chord D E- G>, <music21.chord.Chord F# G# B>, <music21.chord.Chord B C E>, <music21.chord.Chord D E- G>, <music21.chord.Chord D E- G>, <music21.chord.Chord B C E>, <music21.chord.Chord E F A C>, <music21.chord.Chord B C# E F>, <music21.chord.Chord D E- G>, <music21.chord.Chord D E- G>, <music21.chord.Chord D E- G>, <music21.chord.Chord B C E>, <music21.chord.Chord D E- G>, <music21.chord.Chord B- B C# E->, <music21.chord.Chord D>, <music21.chord.Chord D E- G>, <music21.chord.Chord D E- G>, <music21.chord.Chord D>, <music21.chord.Chord F# G# B>, <music21.chord.Chord B- B C# E->, <music21.chord.Chord D E- G>, <music21.chord.Chord D E- G>, <music21.chord.Chord D E- G>, <music21.chord.Chord D>, <music21.chord.Chord D E- G>, <music21.chord.Chord F# G# B>, <music21.chord.Chord B C E>, <music21.chord.Chord D E- G>, <music21.chord.Chord D E- G>, <music21.chord.Chord B C E>, <music21.chord.Chord E F A C>, <music21.chord.Chord B C# E F>, <music21.chord.Chord D E- G>, <music21.chord.Chord D E- G>, <music21.chord.Chord D E- G>, <music21.chord.Chord B C E>, <music21.chord.Chord D E- G>, <music21.chord.Chord B- B C# E->, <music21.chord.Chord D>, <music21.chord.Chord D E- G>, <music21.chord.Chord D E- G>, <music21.chord.Chord D>, <music21.chord.Chord F# G# B>, <music21.chord.Chord B- B C# E->, <music21.chord.Chord D E- G>, <music21.chord.Chord D E- G>, <music21.chord.Chord D E- G>, <music21.chord.Chord D>, <music21.chord.Chord E A B->, <music21.chord.Chord F# G# B>, <music21.chord.Chord E A B->, <music21.chord.Chord F# G# B>, <music21.chord.Chord E A B->, <music21.chord.Chord F# G# B>, <music21.chord.Chord E A B->, <music21.chord.Chord F# G# B>, <music21.chord.Chord E A B->, <music21.chord.Chord F# G# B>, <music21.chord.Chord E A B->, <music21.chord.Chord F# G# B>, <music21.chord.Chord E A B->, <music21.chord.Chord F# G# B>, <music21.chord.Chord F# G# B>, <music21.chord.Chord F# G# B>, <music21.chord.Chord A C D E>, <music21.chord.Chord C F#>, <music21.chord.Chord D E G#>, <music21.chord.Chord C E- F# A>, <music21.chord.Chord C F#>, <music21.chord.Chord B- B C# E->, <music21.chord.Chord B C# E F>, <music21.chord.Chord D E F# A B>, <music21.chord.Chord B C# E F>, <music21.chord.Chord F# G# B>, <music21.chord.Chord F# G# B>, <music21.chord.Chord C# E- F#>, <music21.chord.Chord C E- F# A>, <music21.chord.Chord A B C D>, <music21.chord.Chord C# E- F#>, <music21.note.Note C#>, <music21.chord.Chord A C# D>, <music21.chord.Chord C E F#>, <music21.chord.Chord G# A C#>, <music21.chord.Chord C F#>, <music21.chord.Chord G# B- B C#>, <music21.chord.Chord C F#>, <music21.chord.Chord E- E G# B>, <music21.chord.Chord D E G#>, <music21.chord.Chord D E F# G>, <music21.chord.Chord D E F# G>, <music21.chord.Chord G B- C E->, <music21.chord.Chord E G A B>, <music21.note.Note C>, <music21.chord.Chord C# F G#>, <music21.chord.Chord B- B C#>, <music21.chord.Chord G# B C# E- E>, <music21.chord.Chord C# E G#>, <music21.chord.Chord E F G A>, <music21.note.Note C#>, <music21.chord.Chord C# E G#>, <music21.chord.Chord G B- C E->, <music21.note.Note B->, <music21.chord.Chord G# B- B C#>, <music21.chord.Chord C# E G#>, <music21.note.Note C#>, <music21.note.Note D>, <music21.chord.Chord E- E F#>, <music21.note.Note A>, <music21.chord.Chord D E- G A>, <music21.note.Note A>, <music21.chord.Chord G B- C E->, <music21.chord.Chord G B- C E->, <music21.note.Note B->, <music21.chord.Chord F# G# B D>, <music21.chord.Chord G# B- B C#>, <music21.chord.Chord C E F#>, <music21.note.Note C>, <music21.chord.Chord G G# B>, <music21.chord.Chord F A C>, <music21.chord.Chord G# B C# E- E>, <music21.chord.Chord E F A B>, <music21.chord.Chord A C#>, <music21.chord.Chord G# B- B C#>, <music21.chord.Chord G A B D>, <music21.chord.Chord A B>, <music21.chord.Chord A B C E>, <music21.chord.Chord A B C D>, <music21.note.Note C#>, <music21.chord.Chord G# B>, <music21.chord.Chord G# B>, <music21.chord.Chord B- B C# E->, <music21.chord.Chord G# B- B C#>, <music21.chord.Chord C E- F# A>, <music21.chord.Chord B>, <music21.chord.Chord B C# E F>, <music21.chord.Chord C>, <music21.chord.Chord B- B C# E->, <music21.chord.Chord C>]\n"
     ]
    }
   ],
   "source": [
    "print(len(outputMusicElements))\n",
    "print(outputMusicElements)"
   ]
  },
  {
   "attachments": {},
   "cell_type": "markdown",
   "metadata": {},
   "source": [
    "### Trying to Play the Output Music :-"
   ]
  },
  {
   "cell_type": "code",
   "execution_count": 88,
   "metadata": {},
   "outputs": [
    {
     "data": {
      "text/plain": [
       "'testOutput5.mid'"
      ]
     },
     "execution_count": 88,
     "metadata": {},
     "output_type": "execute_result"
    }
   ],
   "source": [
    "# For playing them, have to create a stream-object\n",
    "#    ..from the generated music-elements\n",
    "\n",
    "midiStream = stream.Stream(outputMusicElements)\n",
    "\n",
    "# Write this midiStream on a midi-file.\n",
    "midiStream.write('midi', fp=\"testOutput5.mid\")\n",
    "# 1st arg  -->  File-type\n",
    "# 2nd arg  -->  File-name"
   ]
  },
  {
   "attachments": {},
   "cell_type": "markdown",
   "metadata": {},
   "source": [
    "#### Loading the output-midi file :"
   ]
  },
  {
   "cell_type": "code",
   "execution_count": 89,
   "metadata": {},
   "outputs": [
    {
     "data": {
      "text/html": [
       "\n",
       "                <div id=\"midiPlayerDiv410116\"></div>\n",
       "                <link rel=\"stylesheet\" href=\"//cuthbertLab.github.io/music21j/css/m21.css\"\n",
       "                    type=\"text/css\" />\n",
       "                \n",
       "                <script>\n",
       "                require.config({\n",
       "                    paths: {'music21': '//cuthbertLab.github.io/music21j/src/music21'}\n",
       "                });\n",
       "                require(['music21'], function() {\n",
       "                               mp = new music21.miditools.MidiPlayer();\n",
       "                               mp.addPlayer(\"#midiPlayerDiv410116\");\n",
       "                               mp.base64Load(\"data:audio/midi;base64,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\");\n",
       "                        });\n",
       "                </script>"
      ],
      "text/plain": [
       "<IPython.core.display.HTML object>"
      ]
     },
     "metadata": {},
     "output_type": "display_data"
    }
   ],
   "source": [
    "midiStream.show('midi')\n",
    "# Show the music in playable-format"
   ]
  },
  {
   "cell_type": "code",
   "execution_count": 90,
   "metadata": {},
   "outputs": [
    {
     "name": "stdout",
     "output_type": "stream",
     "text": [
      "<class 'music21.stream.base.Score'>\n"
     ]
    }
   ],
   "source": [
    "outputMusic5 = converter.parse(\"testOutput5.mid\")\n",
    "print(type(outputMusic5))"
   ]
  },
  {
   "cell_type": "code",
   "execution_count": 91,
   "metadata": {},
   "outputs": [
    {
     "data": {
      "text/html": [
       "\n",
       "                <div id=\"midiPlayerDiv416210\"></div>\n",
       "                <link rel=\"stylesheet\" href=\"//cuthbertLab.github.io/music21j/css/m21.css\"\n",
       "                    type=\"text/css\" />\n",
       "                \n",
       "                <script>\n",
       "                require.config({\n",
       "                    paths: {'music21': '//cuthbertLab.github.io/music21j/src/music21'}\n",
       "                });\n",
       "                require(['music21'], function() {\n",
       "                               mp = new music21.miditools.MidiPlayer();\n",
       "                               mp.addPlayer(\"#midiPlayerDiv416210\");\n",
       "                               mp.base64Load(\"data:audio/midi;base64,TVRoZAAAAAYAAQACBABNVHJrAAAAFAD/UQMHoSAA/1gEBAIYCIgA/y8ATVRyawAAKQUA/wMAAOAAQADAAIgAkDJahACQSVqEAIAyAACQRlqEAIBJAACQRFoAkEdaAJA9WgCQP1oAkEBahACARgAAkD1ahACARAAAgEcAAIA9AACAPwAAgEAAAJBGWoQAgD0AAJBEWgCQR1oAkD1aAJA/WgCQQFqEAIBGAACQRlqEAIBEAACARwAAgD0AAIA/AACAQAAAkEVaAJBHWgCQPFoAkD5ahACARgAAkERaAJBHWgCQPVqEAIBFAACARwAAgDwAAIA+AACQRlqEAIBEAACARwAAgD0AAJBFWgCQR1oAkDxaAJA+WoQAgEYAAJBEWgCQR1oAkD1ahACARQAAgEcAAIA8AACAPgAAkEZahACARAAAgEcAAIA9AACQRVoAkEdaAJA8WgCQPlqEAIBGAACQRlqEAIBFAACARwAAgDwAAIA+AACQRVoAkEdaAJA8WgCQPlqEAIBGAACQRFoAkEdaAJA9WgCQP1oAkEBahACARQAAgEcAAIA8AACAPgAAkEZahACARAAAgEcAAIA9AACAPwAAgEAAAJBFWgCQR1oAkDxaAJA+WoQAgEYAAJBFWgCQR1oAkEBahACARQAAgEcAAIA8AACAPgAAkEVaAJBHWgCQPFoAkEBahACARQAAgEcAAIBAAACQRlqEAIBFAACARwAAgDwAAIBAAACQRVoAkEdaAJA+WgCQQVqEAIBGAACARQAAgEcAAIA+AACAQQAAkEVaAJBHWgCQPFoAkEBaAJBFWgCQR1oAkD5aAJBBWoQAgEUAAIBHAACAPgAAgEEAAJAwWoQAgEUAAIBHAACAPAAAgEAAAJBFWgCQR1oAkDxaAJA+WoQAgDAAAJBFWgCQPFqEAIBFAACARwAAgDwAAIA+AACQRVoAkD1aAJA+WoQAgEUAAIA8AACQRVoAkDxahACARQAAgD0AAIA+AACQRFoAkEVaAJA9WoQAgEUAAIA8AACQRVoAkDxahACARAAAgEUAAIA9AACARQAAgDwAAJAwWgCQRVoAkDxahACARQAAgDwAAJBFWgCQR1oAkDxaAJA+WoQAgDAAAJBEWgCQR1oAkD1ahACARQAAgEcAAIA8AACAPgAAkEZaAJBHWgCQPVqEAIBEAACARwAAgD0AAJBFWoQAgEYAAIBHAACAPQAAkERaAJBGWgCQR1oAkD1ahACARQAAkD5aAJBAWgCQQloAkENahACARAAAgEYAAIBHAACAPQAAkEZahACAPgAAgEAAAIBCAACAQwAAkCZahACARgAAkERaAJBGWgCQP1qEAIAmAACQRVoAkDxaAJA+WoQAgEQAAIBGAACAPwAAkERaAJBGWgCQP1qEAIBFAACAPAAAgD4AAJBEWgCQRloAkD9ahACARAAAgEYAAIA/AACQRVoAkEdahACARAAAgEYAAIA/AACQRFoAkEZaAJA/WoQAgEUAAIBHAACQRFoAkEZaAJA/WoQAgEQAAIBGAACAPwAAgEQAAIBGAACAPwAAkEVaAJA8WgCQRFoAkEZaAJA/WoQAgEQAAIBGAACAPwAAkERaAJBGWgCQP1qEAIBFAACAPAAAkENaAJBFWgCQR1oAkD5ahACARAAAgEYAAIA/AACQRFoAkEZaAJA+WoQAgEMAAIBFAACARwAAgD4AAJBEWgCQRloAkEdaAJA9WoQAgEQAAIBGAACAPgAAkERaAJBGWgCQPlqEAIBEAACARgAAgEcAAIA9AACQQloAkEdaAJA8WoQAgEQAAIBGAACAPgAAkERaAJBGWgCQP1qEAIBCAACARwAAgDwAAIBEAACARgAAgD8AAJBBWgCQRVoAkDxaAJBEWgCQRloAkD9ahACARAAAgEYAAIA/AACQQ1oAkERaAJBHWoQAgEEAAIBFAACAPAAAkD5aAJBAWgCQQloAkEVaAJBHWoQAgEMAAIBEAACARwAAkERaAJBGWgCQP1qEAIA+AACAQAAAgEIAAIBFAACARwAAkEJaAJBHWgCQPFqEAIBEAACARgAAgD8AAJBEWgCQR1qEAIBCAACARwAAgDwAAJBCWgCQRloAkEdaAJA9WoQAgEQAAIBHAACQRFoAkEZaAJA+WoQAgEIAAIBGAACARwAAgD0AAIBEAACARgAAgD4AAJBFWgCQR1oAkD5aAJBBWgCQRFoAkEZaAJA+WoQAgEQAAIBGAACAPgAAkENaAJBEWgCQR1qEAIBFAACARwAAgD4AAIBBAACQQ1oAkEVaAJBHWgCQPlqEAIBDAACARAAAgEcAAJBFWgCQR1qEAIBDAACARQAAgEcAAIA+AACQRFoAkEZaAJA/WoQAgEUAAIBHAACQLlqEAIBEAACARgAAgD8AAJBDWgCQRVoAkEdaAJA+WoQAgC4AAJBEWgCQRloAkD9ahACAQwAAgEUAAIBHAACAPgAAgEQAAIBGAACAPwAAkCJaAJBEWgCQRloAkD9ahACARAAAgEYAAIA/AACQQ1oAkEVaAJBHWgCQPlqEAIAiAACQRFoAkEZaAJA/WoQAgEMAAIBFAACARwAAgD4AAJBDWgCQRVoAkEdaAJA+WoQAgEQAAIBGAACAPwAAkERaAJBGWgCQP1qEAIBDAACARQAAgEcAAIA+AACQQ1oAkEVaAJBHWgCQPlqEAIBEAACARgAAgD8AAJBEWgCQR1oAkD1ahACAQwAAgEUAAIBHAACAPgAAkERaAJBGWgCQP1qEAIBEAACARwAAgD0AAIBEAACARgAAgD8AAJBEWgCQR1oAkD1aAJBEWgCQRloAkD9ahACARAAAgEYAAIA/AACQQ1oAkEVaAJBHWgCQPlqEAIBEAACARwAAgD0AAJBEWgCQRloAkD9ahACAQwAAgEUAAIBHAACAPgAAkENaAJBFWoQAgEQAAIBGAACAPwAAkERaAJBGWgCQP1qEAIBDAACARQAAkEJaAJBHWgCQPFqEAIBEAACARgAAgD8AAJBEWgCQRloAkD9ahACAQgAAgEcAAIA8AACQQloAkEdaAJA8WoQAgEQAAIBGAACAPwAAgEIAAIBHAACAPAAAkERaAJBGWgCQP1oAkEJaAJBHWgCQPFqEAIBCAACARwAAgDwAAJBCWgCQR1oAkDxahACARAAAgEYAAIA/AACQRFoAkEZaAJA/WoQAgEIAAIBHAACAPAAAkEJaAJBHWgCQPFqEAIBEAACARgAAgD8AAJBEWgCQRloAkD9ahACAQgAAgEcAAIA8AACQRFqEAIBEAACARgAAgD8AAJBEWgCQRloAkD9ahACARAAAkENaAJBFWgCQR1oAkD5ahACARAAAgEYAAIA/AACAQwAAgEUAAIBHAACAPgAAkERaAJBGWgCQP1oAkENaAJBFWgCQR1oAkD5ahACAQwAAgEUAAIBHAACAPgAAkENaAJBFWgCQR1oAkD5ahACARAAAgEYAAIA/AACQRFoAkEZaAJA/WoQAgEMAAIBFAACARwAAgD4AAJBFWgCQPFoAkD5ahACARAAAgEYAAIA/AACQRFoAkEZaAJA/WoQAgEUAAIA8AACAPgAAkERaAJBHWgCQPVqEAIBEAACARgAAgD8AAJBAWgCQQVoAkENaAJBFWoQAgEQAAIBHAACAPQAAkERaAJBGWgCQP1qEAIBAAACAQQAAgEMAAIBFAACARAAAgEYAAIA/AACQRFoAkEdaAJA9WgCQRFoAkEZaAJA/WoQAgEQAAIBGAACAPwAAkENaAJBEWgCQR1qEAIBEAACARwAAgD0AAJAmWoQAgEMAAIBEAACARwAAkGBahACAJgAAkCJahACAYAAAkERaAJBGWgCQP1qEAIAiAACQOlqEAIBEAACARgAAgD8AAJAlWoQAgDoAAJBhWoQAgCUAAJBEWgCQRloAkD9ahACAYQAAkEVaAJBGWgCQP1qEAIBEAACARgAAgD8AAJBFWgCQPFoAkD5ahACARQAAgEYAAIA/AACQQ1oAkEVaAJBHWgCQPlqEAIBFAACAPAAAgD4AAJBEWgCQRloAkD9ahACAQwAAgEUAAIBHAACAPgAAkERaAJBGWgCQP1qEAIBEAACARgAAgD8AAJBEWgCQRloAkD9ahACARAAAgEYAAIA/AACQRFoAkEZaAJA/WoQAgEQAAIBGAACAPwAAkERaAJBGWgCQP1qEAIBEAACARgAAgD8AAJBFWgCQPFoAkD5ahACARAAAgEYAAIA/AACQRFoAkEZaAJA/WoQAgEUAAIA8AACAPgAAkERaAJBGWgCQP1qEAIBEAACARgAAgD8AAJBAWgCQQVoAkENaAJBFWoQAgEQAAIBGAACAPwAAkERaAJBGWgCQP1qEAIBAAACAQQAAgEMAAIBFAACQRFoAkEdaAJA9WoQAgEQAAIBGAACAPwAAgEQAAIBHAACAPQAAkERaAJBGWgCQP1oAkERaAJBHWgCQPVqEAIBEAACARwAAgD0AAJBFWgCQPFqEAIBEAACARgAAgD8AAJBEWgCQRloAkD9ahACARQAAgDwAAJBFWgCQR1oAkD9ahACARAAAgEYAAIA/AACQRFoAkEZaAJBHWgCQPVqEAIBFAACARwAAgD8AAJBEWgCQRloAkD9ahACARAAAgEYAAIBHAACAPQAAkEFaAJBDWgCQRVoAkEdahACARAAAgEYAAIA/AACQPloAkEBaAJBCWgCQRVoAkEdahACAQQAAgEMAAIBFAACARwAAgD4AAIBAAACAQgAAgEUAAIBHAACQRFoAkEZaAJA/WgCQPloAkEBaAJBCWgCQRVoAkEdahACAPgAAgEAAAIBCAACARQAAgEcAAJBEWgCQRloAkD9ahACARAAAgEYAAIA/AACQQVoAkEVaAJA8WoQAgEQAAIBGAACAPwAAkD9aAJBAWgCQRFoAkEdahACAQQAAgEUAAIA8AACQJlqEAIA/AACAQAAAgEQAAIBHAACQYFqEAIAmAACQQVoAkEVaAJA8WoQAgGAAAJBFWgCQR1oAkD5aAJBAWoQAgEEAAIBFAACAPAAAgEUAAIBHAACAPgAAgEAAAJBFWgCQPFoAkD5aAJBFWgCQR1oAkD5aAJBAWoQAgEUAAIBHAACAPgAAgEAAAJBDWgCQRVoAkEdaAJA+WoQAgEUAAIA8AACAPgAAkERaAJBGWgCQP1qEAIBDAACARQAAgEcAAIA+AACQRFoAkEZaAJA/WoQAgEQAAIBGAACAPwAAkENaAJBFWgCQR1oAkD5ahACARAAAgEYAAIA/AACQQ1oAkEVaAJBHWgCQPlqEAIBDAACARQAAgEcAAIA+AACQRVoAkEdaAJA+WgCQQVqEAIBDAACARQAAgEcAAIA+AACQQ1oAkEVaAJBHWgCQPlqEAIBFAACARwAAgD4AAIBBAACAQwAAgEUAAIBHAACAPgAAkERaAJBGWgCQP1oAkENaAJBFWgCQR1oAkD5ahACAQwAAgEUAAIBHAACAPgAAkEVaAJBHWgCQPloAkEFahACARAAAgEYAAIA/AACQQ1oAkEVaAJBHWgCQPlqEAIBFAACARwAAgD4AAIBBAACQRFoAkEZaAJBHWgCQPVqEAIBDAACARQAAgEcAAIA+AACQIlqEAIBEAACARgAAgEcAAIA9AACQIlqEAIAiAACQRVoAkEdaAJA/WoQAgCIAAJBAWgCQQVoAkEVaAJBHWoQAgEUAAIBHAACAPwAAgEAAAIBBAACARQAAgEcAAJBEWgCQRloAkEdaAJA9WgCQQFoAkEFaAJBFWgCQR1qEAIBAAACAQQAAgEUAAIBHAACQPloAkEBaAJBCWgCQRVoAkEdahACARAAAgEYAAIBHAACAPQAAkEFaAJBFWgCQPFqEAIA+AACAQAAAgEIAAIBFAACARwAAkD5aAJBAWgCQQloAkEVaAJBHWoQAgEEAAIBFAACAPAAAkEFaAJBFWgCQPFqEAIA+AACAQAAAgEIAAIBFAACARwAAkD5aAJBAWgCQQloAkEVaAJBHWoQAgEEAAIBFAACAPAAAkEFaAJBFWgCQPFqEAIA+AACAQAAAgEIAAIBFAACARwAAkD5aAJBAWgCQQloAkEVaAJBHWoQAgEEAAIBFAACAPAAAgD4AAIBAAACAQgAAgEUAAIBHAACQQVoAkEVaAJA8WgCQPloAkEBaAJBCWgCQRVoAkEdahACAPgAAgEAAAIBCAACARQAAgEcAAJA+WgCQQFoAkEJaAJBFWgCQR1qEAIBBAACARQAAgDwAAJBBWgCQRVoAkDxahACAPgAAgEAAAIBCAACARQAAgEcAAJA+WgCQQFoAkEJaAJBFWgCQR1qEAIBBAACARQAAgDwAAJBBWgCQRVoAkDxahACAPgAAgEAAAIBCAACARQAAgEcAAJA+WgCQQFoAkEJaAJBFWgCQR1qEAIBBAACARQAAgDwAAJBBWgCQRVoAkDxahACAPgAAgEAAAIBCAACARQAAgEcAAJBHWgCQQFqEAIBBAACARQAAgDwAAIBHAACAQAAAkEFaAJBFWgCQPFoAkEdaAJBAWoQAgEcAAIBAAACQR1oAkEBahACAQQAAgEUAAIA8AACQQVoAkEVaAJA8WoQAgEcAAIBAAACQPVoAkEBahACAQQAAgEUAAIA8AACQQVoAkEVaAJA8WoQAgD0AAIBAAACQPVoAkEBahACAQQAAgEUAAIA8AACQPVoAkEBahACAPQAAgEAAAJBBWgCQRVoAkDxahACAPQAAgEAAAIBBAACARQAAgDwAAJA8WgCQP1oAkEJaAJBEWgCQQVoAkEVaAJA8WoQAgEEAAIBFAACAPAAAkDxaAJA/WgCQQloAkERahACAPAAAgD8AAIBCAACARAAAkEFaAJBFWgCQPFqEAIA8AACAPwAAgEIAAIBEAACQPFoAkD9aAJBCWgCQRFqEAIBBAACARQAAgDwAAJA+WgCQQFoAkEJaAJBFWgCQR1qEAIA8AACAPwAAgEIAAIBEAACQQloAkERaAJBHWoQAgD4AAIBAAACAQgAAgEUAAIBHAACQR1oAkDxaAJBAWoQAgEIAAIBEAACARwAAkEFaAJBFWgCQPFqEAIBHAACAPAAAgEAAAIBBAACARQAAgDwAAJA+WgCQQFoAkEJaAJBFWgCQR1oAkEFaAJBFWgCQPFqEAIBBAACARQAAgDwAAJBBWgCQRVoAkDxahACAPgAAgEAAAIBCAACARQAAgEcAAJA+WgCQQFoAkEJaAJBFWgCQR1qEAIBBAACARQAAgDwAAJBBWgCQRVoAkDxahACAPgAAgEAAAIBCAACARQAAgEcAAJA+WgCQQFoAkEJaAJBFWgCQR1qEAIBBAACARQAAgDwAAJBBWgCQRVoAkDxahACAPgAAgEAAAIBCAACARQAAgEcAAJA+WgCQQFoAkEJaAJBFWgCQR1qEAIBBAACARQAAgDwAAJBBWgCQRVoAkDxahACAPgAAgEAAAIBCAACARQAAgEcAAIBBAACARQAAgDwAAJA+WgCQQFoAkEJaAJBFWgCQR1oAkEFaAJBFWgCQPFqEAIBBAACARQAAgDwAAJBBWgCQRVoAkDxahACAPgAAgEAAAIBCAACARQAAgEcAAJBHWgCQQFqEAIBBAACARQAAgDwAAJBBWgCQRVoAkDxahACARwAAgEAAAJBHWgCQQFqEAIBBAACARQAAgDwAAJBBWgCQRVoAkDxahACARwAAgEAAAJBHWgCQQFqEAIBBAACARQAAgDwAAJBBWgCQRVoAkDxahACARwAAgEAAAIBBAACARQAAgDwAAJA9WgCQQFoAkEFaAJBFWgCQPFqEAIBBAACARQAAgDwAAJBBWgCQRVoAkDxahACAPQAAgEAAAJA9WgCQQFqEAIBBAACARQAAgDwAAJA9WgCQQFqEAIA9AACAQAAAkEFaAJBFWgCQPFqEAIA9AACAQAAAkDxaAJA/WgCQQloAkERahACAQQAAgEUAAIA8AACQPFoAkD9aAJBCWgCQRFqEAIA8AACAPwAAgEIAAIBEAACQQVoAkEVaAJA8WoQAgDwAAIA/AACAQgAAgEQAAIBBAACARQAAgDwAAJA8WgCQP1oAkEJaAJBEWgCQQVoAkEVaAJA8WoQAgEEAAIBFAACAPAAAkD5aAJA/WgCQQ1qEAIA8AACAPwAAgEIAAIBEAACQQloAkERaAJBHWoQAgD4AAIA/AACAQwAAkEdaAJA8WgCQQFqEAIBCAACARAAAgEcAAJA+WgCQP1oAkENahACARwAAgDwAAIBAAACQPloAkD9aAJBDWoQAgD4AAIA/AACAQwAAkEdaAJA8WgCQQFqEAIA+AACAPwAAgEMAAJBAWgCQQVoAkEVaAJA8WoQAgEcAAIA8AACAQAAAgEAAAIBBAACARQAAgDwAAJBHWgCQPVoAkEBaAJBBWgCQQFoAkEFaAJBFWgCQPFqEAIBAAACAQQAAgEUAAIA8AACQPloAkD9aAJBDWoQAgEcAAIA9AACAQAAAgEEAAJA+WgCQP1oAkENahACAPgAAgD8AAIBDAACQPloAkD9aAJBDWoQAgD4AAIA/AACAQwAAkEdaAJA8WgCQQFqEAIA+AACAPwAAgEMAAJA+WgCQP1oAkENahACARwAAgDwAAIBAAACQRloAkEdaAJA9WgCQP1qEAIA+AACAPwAAgEMAAJA+WoQAgEYAAIBHAACAPQAAgD8AAJA+WgCQP1oAkENahACAPgAAkD5aAJA/WgCQQ1qEAIA+AACAPwAAgEMAAJA+WoQAgD4AAIA/AACAQwAAkEJaAJBEWgCQR1qEAIA+AACQRloAkEdaAJA9WgCQP1qEAIBCAACARAAAgEcAAJA+WgCQP1oAkENahACARgAAgEcAAIA9AACAPwAAkD5aAJA/WgCQQ1qEAIA+AACAPwAAgEMAAJA+WgCQP1oAkENahACAPgAAgD8AAIBDAACAPgAAgD8AAIBDAACQPloAkD5aAJA/WgCQQ1qEAIA+AACAPwAAgEMAAJA+WgCQP1oAkENahACAPgAAkEJaAJBEWgCQR1qEAIA+AACAPwAAgEMAAJBHWgCQPFoAkEBahACAQgAAgEQAAIBHAACQPloAkD9aAJBDWoQAgEcAAIA8AACAQAAAkD5aAJA/WgCQQ1qEAIA+AACAPwAAgEMAAJBHWgCQPFoAkEBahACAPgAAgD8AAIBDAACQQFoAkEFaAJBFWgCQPFqEAIBHAACAPAAAgEAAAIBAAACAQQAAgEUAAIA8AACQR1oAkD1aAJBAWgCQQVoAkEBaAJBBWgCQRVoAkDxahACAQAAAgEEAAIBFAACAPAAAkD5aAJA/WgCQQ1qEAIBHAACAPQAAgEAAAIBBAACQPloAkD9aAJBDWoQAgD4AAIA/AACAQwAAkD5aAJA/WgCQQ1qEAIA+AACAPwAAgEMAAJBHWgCQPFoAkEBahACAPgAAgD8AAIBDAACQPloAkD9aAJBDWoQAgEcAAIA8AACAQAAAkEZaAJBHWgCQPVoAkD9ahACAPgAAgD8AAIBDAACQPlqEAIBGAACARwAAgD0AAIA/AACQPloAkD9aAJBDWoQAgD4AAJA+WgCQP1oAkENahACAPgAAgD8AAIBDAACQPlqEAIA+AACAPwAAgEMAAJBCWgCQRFoAkEdahACAPgAAkEZaAJBHWgCQPVoAkD9ahACAQgAAgEQAAIBHAACQPloAkD9aAJBDWoQAgEYAAIBHAACAPQAAgD8AAJA+WgCQP1oAkENahACAPgAAgD8AAIBDAACQPloAkD9aAJBDWoQAgD4AAIA/AACAQwAAgD4AAIA/AACAQwAAkD5aAJA+WgCQP1oAkENahACAPgAAgD8AAIBDAACQPloAkD9aAJBDWoQAgD4AAJBCWgCQRFoAkEdahACAPgAAgD8AAIBDAACQR1oAkDxaAJBAWoQAgEIAAIBEAACARwAAkD5aAJA/WgCQQ1qEAIBHAACAPAAAgEAAAJA+WgCQP1oAkENahACAPgAAgD8AAIBDAACQR1oAkDxaAJBAWoQAgD4AAIA/AACAQwAAkEBaAJBBWgCQRVoAkDxahACARwAAgDwAAIBAAACAQAAAgEEAAIBFAACAPAAAkEdaAJA9WgCQQFoAkEFaAJBAWgCQQVoAkEVaAJA8WoQAgEAAAIBBAACARQAAgDwAAJA+WgCQP1oAkENahACARwAAgD0AAIBAAACAQQAAkD5aAJA/WgCQQ1qEAIA+AACAPwAAgEMAAJA+WgCQP1oAkENahACAPgAAgD8AAIBDAACQR1oAkDxaAJBAWoQAgD4AAIA/AACAQwAAkD5aAJA/WgCQQ1qEAIBHAACAPAAAgEAAAJBGWgCQR1oAkD1aAJA/WoQAgD4AAIA/AACAQwAAkD5ahACARgAAgEcAAIA9AACAPwAAkD5aAJA/WgCQQ1qEAIA+AACQPloAkD9aAJBDWoQAgD4AAIA/AACAQwAAkD5ahACAPgAAgD8AAIBDAACQQloAkERaAJBHWoQAgD4AAJBGWgCQR1oAkD1aAJA/WoQAgEIAAIBEAACARwAAkD5aAJA/WgCQQ1qEAIBGAACARwAAgD0AAIA/AACQPloAkD9aAJBDWoQAgD4AAIA/AACAQwAAkD5aAJA/WgCQQ1qEAIA+AACAPwAAgEMAAIA+AACAPwAAgEMAAJA+WgCQPloAkD9aAJBDWoQAgD4AAIA/AACAQwAAkEBaAJBFWgCQRlqEAIA+AACQQloAkERaAJBHWoQAgEAAAIBFAACARgAAkEBaAJBFWgCQRlqEAIBCAACARAAAgEcAAJBCWgCQRFoAkEdahACAQAAAgEUAAIBGAACQQFoAkEVaAJBGWoQAgEIAAIBEAACARwAAkEJaAJBEWgCQR1qEAIBAAACARQAAgEYAAJBAWgCQRVoAkEZahACAQgAAgEQAAIBHAACAQAAAgEUAAIBGAACQQloAkERaAJBHWgCQQFoAkEVaAJBGWoQAgEAAAIBFAACARgAAkEBaAJBFWgCQRlqEAIBCAACARAAAgEcAAJBCWgCQRFoAkEdahACAQAAAgEUAAIBGAACQQFoAkEVaAJBGWoQAgEIAAIBEAACARwAAkEJaAJBEWgCQR1qEAIBAAACARQAAgEYAAJBAWgCQRVoAkEZahACAQgAAgEQAAIBHAACQQloAkERaAJBHWoQAgEAAAIBFAACARgAAkEJaAJBEWgCQR1qEAIBCAACARAAAgEcAAJBCWgCQRFoAkEdahACAQgAAgEQAAIBHAACQRVoAkDxaAJA+WgCQQFqEAIBCAACARAAAgEcAAJA8WgCQQlqEAIBFAACAPAAAgD4AAIBAAACQPloAkEBaAJBEWoQAgDwAAIBCAACQPFoAkD9aAJBCWgCQRVqEAIA+AACAQAAAgEQAAJA8WgCQQlqEAIA8AACAPwAAgEIAAIBFAACQRloAkEdaAJA9WgCQP1qEAIA8AACAQgAAkEdaAJA9WgCQQFoAkEFahACARgAAgEcAAIA9AACAPwAAgEcAAIA9AACAQAAAgEEAAJA+WgCQQFoAkEJaAJBFWgCQR1oAkEdaAJA9WgCQQFoAkEFahACARwAAgD0AAIBAAACAQQAAkEdaAJA9WgCQQFoAkEFahACAPgAAgEAAAIBCAACARQAAgEcAAJBCWgCQRFoAkEdahACARwAAgD0AAIBAAACAQQAAkEJaAJBEWgCQR1qEAIBCAACARAAAgEcAAJA9WgCQP1oAkEJahACAQgAAgEQAAIBHAACQPFoAkD9aAJBCWgCQRVqEAIA9AACAPwAAgEIAAJBFWgCQR1oAkDxaAJA+WoQAgDwAAIA/AACAQgAAgEUAAJA9WgCQP1oAkEJahACARQAAgEcAAIA8AACAPgAAgD0AAIA/AACAQgAAkElaAJA9WgCQP1oAkEJahACAPQAAgD8AAIBCAACQRVoAkD1aAJA+WoQAgEkAAJA8WgCQQFoAkEJahACARQAAgD0AAIA+AACQRFoAkEVaAJA9WoQAgDwAAIBAAACAQgAAkDxaAJBCWoQAgEQAAIBFAACAPQAAkERaAJBGWgCQR1oAkD1ahACAPAAAgEIAAJA8WgCQQlqEAIBEAACARgAAgEcAAIA9AACQP1oAkEBaAJBEWgCQR1qEAIA8AACAQgAAgD8AAIBAAACARAAAgEcAAJA+WgCQQFoAkERaAJA/WgCQQFoAkERaAJBHWoQAgD8AAIBAAACARAAAgEcAAJA+WgCQQFoAkEJaAJBDWoQAgD4AAIBAAACARAAAkD5aAJBAWgCQQloAkENahACAPgAAgEAAAIBCAACAQwAAkENaAJBGWgCQPFoAkD9ahACAPgAAgEAAAIBCAACAQwAAkEBaAJBDWgCQRVoAkEdahACAQwAAgEYAAIA8AACAPwAAkDxahACAQAAAgEMAAIBFAACARwAAkD1aAJBBWgCQRFqEAIA8AACQRloAkEdaAJA9WoQAgD0AAIBBAACARAAAgEYAAIBHAACAPQAAkERaAJBHWgCQPVoAkD9aAJBAWgCQRloAkEdaAJA9WoQAgEYAAIBHAACAPQAAkD1aAJBAWgCQRFqEAIBEAACARwAAgD0AAIA/AACAQAAAkEBaAJBBWgCQQ1oAkEVahACAPQAAgEAAAIBEAACQYVqEAIBAAACAQQAAgEMAAIBFAACQPVoAkEBaAJBEWoQAgGEAAJBDWgCQRloAkDxaAJA/WoQAgD0AAIBAAACARAAAkFJahACAQwAAgEYAAIA8AACAPwAAkERaAJBGWgCQR1oAkD1ahACAUgAAgEQAAIBGAACARwAAgD0AAJA9WgCQQFoAkERaAJBEWgCQRloAkEdaAJA9WoQAgEQAAIBGAACARwAAgD0AAJA9WoQAgD0AAIBAAACARAAAkCZahACAPQAAkD9aAJBAWgCQQlqEAIAmAACQIVqEAIA/AACAQAAAgEIAAJA+WgCQP1oAkENaAJBFWoQAgCEAAJA5WoQAgD4AAIA/AACAQwAAgEUAAJBDWgCQRloAkDxaAJA/WoQAgDkAAJBDWgCQRloAkDxaAJA/WoQAgEMAAIBGAACAPAAAgD8AAJA6WoQAgEMAAIBGAACAPAAAgD8AAJBCWgCQRFoAkEdaAJA+WoQAgDoAAJBEWgCQRloAkEdaAJA9WoQAgEIAAIBEAACARwAAgD4AAJA8WgCQQFoAkEJahACARAAAgEYAAIBHAACAPQAAkDxahACAPAAAgEAAAIBCAACQQ1oAkERaAJBHWoQAgDwAAJBBWgCQRVoAkDxahACAQwAAgEQAAIBHAACAQQAAgEUAAIA8AACQRFoAkEdaAJA9WgCQP1oAkEBaAJBBWgCQRVoAkDxahACAQQAAgEUAAIA8AACQQFoAkEFaAJBFWgCQR1qEAIBEAACARwAAgD0AAIA/AACAQAAAkEVaAJA9WoQAgEAAAIBBAACARQAAgEcAAJBEWgCQRloAkEdaAJA9WoQAgEUAAIA9AACQQ1oAkEVaAJBHWgCQPlqEAIBEAACARgAAgEcAAIA9AACQRVoAkEdahACAQwAAgEUAAIBHAACAPgAAkEVaAJBHWgCQPFoAkEBahACARQAAgEcAAJBFWgCQR1oAkDxaAJA+WoQAgEUAAIBHAACAPAAAgEAAAIBFAACARwAAgDwAAIA+AACQPVoAkEVaAJBHWgCQPFoAkD5ahACARQAAgEcAAIA8AACAPgAAkERaAJBHWoQAgD0AAJBEWgCQR1qEAIBEAACARwAAkEZaAJBHWgCQPVoAkD9ahACARAAAgEcAAJBEWgCQRloAkEdaAJA9WoQAgEYAAIBHAACAPQAAgD8AAJA8WgCQP1oAkEJaAJBFWoQAgEQAAIBGAACARwAAgD0AAJBHWoQAgDwAAIA/AACAQgAAgEUAAJBHWgCQPVoAkEBaAJBBWoQAgEcAAIBHAACAPQAAgEAAAIBBAACQPFoAkEdaAJA9WgCQQFoAkEFahACARwAAgD0AAIBAAACAQQAAkEZaAJBHWgCQPVoAkD9ahACAPAAAkDxahACARgAAgEcAAIA9AACAPwCEAIA8AIgA/y8A\");\n",
       "                        });\n",
       "                </script>"
      ],
      "text/plain": [
       "<IPython.core.display.HTML object>"
      ]
     },
     "metadata": {},
     "output_type": "display_data"
    }
   ],
   "source": [
    "outputMusic5.show('midi')\n",
    "# This will show the music in playable-format"
   ]
  },
  {
   "attachments": {},
   "cell_type": "markdown",
   "metadata": {},
   "source": [
    "## Plotting inputMusicElements VS outputMusicElements :"
   ]
  },
  {
   "cell_type": "code",
   "execution_count": 93,
   "metadata": {},
   "outputs": [],
   "source": [
    "import matplotlib.pyplot as plt"
   ]
  },
  {
   "cell_type": "code",
   "execution_count": 94,
   "metadata": {},
   "outputs": [
    {
     "name": "stdout",
     "output_type": "stream",
     "text": [
      "Some elements of inputMusicNums :-\n",
      "107\n",
      "0\n",
      "79\n",
      "297\n",
      "97\n",
      "165\n",
      "97\n",
      "97\n",
      "187\n",
      "107\n",
      "0\n"
     ]
    }
   ],
   "source": [
    "inputMusicNums = networkInput[startIdx]\n",
    "print(\"Some elements of inputMusicNums :-\")\n",
    "# print(inputMusicNums)\n",
    "count = 0\n",
    "for ele in inputMusicNums:\n",
    "    print(ele)\n",
    "    count += 1\n",
    "    if count > 10:\n",
    "        break"
   ]
  },
  {
   "cell_type": "code",
   "execution_count": 95,
   "metadata": {},
   "outputs": [
    {
     "name": "stdout",
     "output_type": "stream",
     "text": [
      "Some elements of outputMusicNums are :-\n",
      "357\n",
      "346\n",
      "333\n",
      "287\n",
      "345\n",
      "333\n",
      "287\n",
      "333\n",
      "313\n",
      "286\n",
      "333\n"
     ]
    }
   ],
   "source": [
    "outputMusicNums = []\n",
    "for ele in predictionOutput:\n",
    "    outputMusicNums.append(noteMap[ele])\n",
    "print(\"Some elements of outputMusicNums are :-\")\n",
    "count = 0\n",
    "for ele in outputMusicNums:\n",
    "    print(ele)\n",
    "    count += 1\n",
    "    if count > 10:\n",
    "        break"
   ]
  },
  {
   "attachments": {},
   "cell_type": "markdown",
   "metadata": {},
   "source": [
    "#### Plot inputMusicNums VS outputMusicNums (prediction visualization) :-"
   ]
  },
  {
   "cell_type": "code",
   "execution_count": null,
   "metadata": {},
   "outputs": [],
   "source": []
  }
 ],
 "metadata": {
  "kernelspec": {
   "display_name": "base",
   "language": "python",
   "name": "python3"
  },
  "language_info": {
   "codemirror_mode": {
    "name": "ipython",
    "version": 3
   },
   "file_extension": ".py",
   "mimetype": "text/x-python",
   "name": "python",
   "nbconvert_exporter": "python",
   "pygments_lexer": "ipython3",
   "version": "3.9.12"
  },
  "orig_nbformat": 4
 },
 "nbformat": 4,
 "nbformat_minor": 2
}
